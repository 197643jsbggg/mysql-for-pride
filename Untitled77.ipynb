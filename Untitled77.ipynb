{
  "nbformat": 4,
  "nbformat_minor": 0,
  "metadata": {
    "colab": {
      "provenance": [],
      "authorship_tag": "ABX9TyOP6XetH9H0Ih2ANW9bX6WL",
      "include_colab_link": true
    },
    "kernelspec": {
      "name": "python3",
      "display_name": "Python 3"
    },
    "language_info": {
      "name": "python"
    }
  },
  "cells": [
    {
      "cell_type": "markdown",
      "metadata": {
        "id": "view-in-github",
        "colab_type": "text"
      },
      "source": [
        "<a href=\"https://colab.research.google.com/github/197643jsbggg/mysql-for-pride/blob/main/Untitled77.ipynb\" target=\"_parent\"><img src=\"https://colab.research.google.com/assets/colab-badge.svg\" alt=\"Open In Colab\"/></a>"
      ]
    },
    {
      "cell_type": "markdown",
      "source": [
        "variable assignment"
      ],
      "metadata": {
        "id": "zT8fnec7rMzm"
      }
    },
    {
      "cell_type": "code",
      "source": [
        "name = input('enter a name')\n",
        "print('welcome', name)"
      ],
      "metadata": {
        "colab": {
          "base_uri": "https://localhost:8080/"
        },
        "id": "ttTg-43IrQrQ",
        "outputId": "e92f5b4d-5ed6-4469-f6fd-7e80fdcf8c3d"
      },
      "execution_count": 2,
      "outputs": [
        {
          "output_type": "stream",
          "name": "stdout",
          "text": [
            "enter a namejaswanth\n",
            "welcome jaswanth\n"
          ]
        }
      ]
    },
    {
      "cell_type": "markdown",
      "source": [
        "logical operators"
      ],
      "metadata": {
        "id": "cnhLfLdhr3rg"
      }
    },
    {
      "cell_type": "code",
      "source": [
        "isstudent = True\n",
        "isprice = False\n",
        "isstudent or isprice\n"
      ],
      "metadata": {
        "colab": {
          "base_uri": "https://localhost:8080/"
        },
        "id": "g6AdBpS7r6Fh",
        "outputId": "862a6ac4-6dd6-43dc-f66f-b62dadcdbc4b"
      },
      "execution_count": 5,
      "outputs": [
        {
          "output_type": "execute_result",
          "data": {
            "text/plain": [
              "False"
            ]
          },
          "metadata": {},
          "execution_count": 5
        }
      ]
    },
    {
      "cell_type": "code",
      "source": [
        "isstudent and isprice\n"
      ],
      "metadata": {
        "colab": {
          "base_uri": "https://localhost:8080/"
        },
        "id": "-3tzHUyet5Bb",
        "outputId": "c3803424-475e-428b-8541-cf291edc560f"
      },
      "execution_count": 6,
      "outputs": [
        {
          "output_type": "execute_result",
          "data": {
            "text/plain": [
              "False"
            ]
          },
          "metadata": {},
          "execution_count": 6
        }
      ]
    },
    {
      "cell_type": "code",
      "source": [
        "x=[2,3,4]\n",
        "y=[2,3,4]\n",
        "z = x\n",
        "print(x is not z)\n",
        "print(x is z)\n",
        "print(id(x))"
      ],
      "metadata": {
        "colab": {
          "base_uri": "https://localhost:8080/"
        },
        "id": "IvlgW_-TsaTn",
        "outputId": "1f8cb030-da76-4cec-b885-276dd82f26bc"
      },
      "execution_count": 4,
      "outputs": [
        {
          "output_type": "stream",
          "name": "stdout",
          "text": [
            "False\n",
            "True\n",
            "137517435650240\n"
          ]
        }
      ]
    },
    {
      "cell_type": "code",
      "source": [
        "list=[10,20,30]\n",
        "list2=[10,20,30]\n",
        "print(\"id is:\",id(list))\n",
        "print(\"id is:\",id(list2))"
      ],
      "metadata": {
        "colab": {
          "base_uri": "https://localhost:8080/"
        },
        "id": "CI_hdrDFtndf",
        "outputId": "c6664acf-dfd2-44c9-c1b6-ae3de25991b6"
      },
      "execution_count": 11,
      "outputs": [
        {
          "output_type": "stream",
          "name": "stdout",
          "text": [
            "id is: 137516442994752\n",
            "id is: 137517078085312\n"
          ]
        }
      ]
    },
    {
      "cell_type": "code",
      "source": [
        "x=[\"jas\",\"sai\",\"bhar\"]\n",
        "y=[\"jas\",\"sai\",\"bhar\"]\n",
        "print(x is not y)\n",
        "print(x != y)\n",
        "print(x is y)"
      ],
      "metadata": {
        "colab": {
          "base_uri": "https://localhost:8080/"
        },
        "id": "NbDx2DCxu0s0",
        "outputId": "1a4483f5-921a-4562-cfce-4dc1c4e62004"
      },
      "execution_count": 13,
      "outputs": [
        {
          "output_type": "stream",
          "name": "stdout",
          "text": [
            "True\n",
            "False\n",
            "False\n"
          ]
        }
      ]
    },
    {
      "cell_type": "markdown",
      "source": [
        "membership operators\n"
      ],
      "metadata": {
        "id": "GFbenRznv32r"
      }
    },
    {
      "cell_type": "code",
      "source": [
        "vow = \"abcde\"\n",
        "print(\"b\" in vow)\n",
        "print(\"a\" not in vow)"
      ],
      "metadata": {
        "colab": {
          "base_uri": "https://localhost:8080/"
        },
        "id": "FcTKb1JWv6t7",
        "outputId": "daac5e61-da11-44e2-a98c-acd8c85df5a4"
      },
      "execution_count": 15,
      "outputs": [
        {
          "output_type": "stream",
          "name": "stdout",
          "text": [
            "True\n",
            "False\n"
          ]
        }
      ]
    },
    {
      "cell_type": "markdown",
      "source": [
        "bitwise operators"
      ],
      "metadata": {
        "id": "fGs2B9Y0wkPB"
      }
    },
    {
      "cell_type": "code",
      "source": [
        "x=2\n",
        "y=3\n",
        "print(x & y)\n",
        "print(x << y)\n",
        "print(x >> y)"
      ],
      "metadata": {
        "colab": {
          "base_uri": "https://localhost:8080/"
        },
        "id": "4fmtlS_Sw1Tj",
        "outputId": "31363f8f-a321-4b60-8ddc-3d2f5f43f3ce"
      },
      "execution_count": 18,
      "outputs": [
        {
          "output_type": "stream",
          "name": "stdout",
          "text": [
            "2\n",
            "16\n",
            "0\n"
          ]
        }
      ]
    },
    {
      "cell_type": "code",
      "source": [],
      "metadata": {
        "id": "ES6sRYP4ysGy"
      },
      "execution_count": null,
      "outputs": []
    },
    {
      "cell_type": "markdown",
      "source": [
        "if statments\n"
      ],
      "metadata": {
        "id": "cVkf-kRsys5t"
      }
    },
    {
      "cell_type": "code",
      "source": [
        "a = 33\n",
        "b = 200\n",
        "if b > a:\n",
        "  print(\"b is greater than a\")"
      ],
      "metadata": {
        "colab": {
          "base_uri": "https://localhost:8080/"
        },
        "id": "8JEmo4Xyyu79",
        "outputId": "5283dd23-dd49-4913-9978-a70ea07e8d71"
      },
      "execution_count": 19,
      "outputs": [
        {
          "output_type": "stream",
          "name": "stdout",
          "text": [
            "b is greater than a\n"
          ]
        }
      ]
    },
    {
      "cell_type": "markdown",
      "source": [
        "if elsestatment\n"
      ],
      "metadata": {
        "id": "_US1f6cjzHcF"
      }
    },
    {
      "cell_type": "code",
      "source": [
        "a = 33\n",
        "b = 200\n",
        "if b > a:\n",
        "  print(\"b is greater than a\")\n",
        "else:\n",
        "  print(\"jump jump\")"
      ],
      "metadata": {
        "colab": {
          "base_uri": "https://localhost:8080/"
        },
        "id": "HNIpJJ95y4Xm",
        "outputId": "79fd7493-3d1f-4d7b-8dd9-741723cef4ff"
      },
      "execution_count": 20,
      "outputs": [
        {
          "output_type": "stream",
          "name": "stdout",
          "text": [
            "b is greater than a\n"
          ]
        }
      ]
    },
    {
      "cell_type": "code",
      "source": [],
      "metadata": {
        "id": "-qApBYLuzRLs"
      },
      "execution_count": null,
      "outputs": []
    },
    {
      "cell_type": "markdown",
      "source": [
        "nested if\n"
      ],
      "metadata": {
        "id": "L2il9gW2zYig"
      }
    },
    {
      "cell_type": "code",
      "source": [
        "i = 20;\n",
        "if (i < 15):\n",
        "    print (\"i is smaller than 15\")\n",
        "    print (\"i'm in if Block\")\n",
        "else:\n",
        "    print (\"i is greater than 15\")\n",
        "    print (\"i'm in else Block\")\n",
        "print (\"i'm not in if and not in else Block\")"
      ],
      "metadata": {
        "colab": {
          "base_uri": "https://localhost:8080/"
        },
        "id": "RPPq3moZzaOH",
        "outputId": "b4eff50c-bd1a-475a-987e-3741ec9e1c7a"
      },
      "execution_count": 21,
      "outputs": [
        {
          "output_type": "stream",
          "name": "stdout",
          "text": [
            "i is greater than 15\n",
            "i'm in else Block\n",
            "i'm not in if and not in else Block\n"
          ]
        }
      ]
    },
    {
      "cell_type": "code",
      "source": [
        "i = int(input(\"enter service time\"))\n",
        "if (i > 10):\n",
        "  print(\"bonus is 10%\" )\n",
        "elif(i >= 6) and (i <= 10):\n",
        "  print(\"bonues is 8%\")\n",
        "else:\n",
        "  print(\"bonus is 6%\")"
      ],
      "metadata": {
        "colab": {
          "base_uri": "https://localhost:8080/"
        },
        "id": "tw2iyyemzklI",
        "outputId": "00325ed8-af45-4bf4-a75b-5438cfa17057"
      },
      "execution_count": 22,
      "outputs": [
        {
          "output_type": "stream",
          "name": "stdout",
          "text": [
            "enter service time8\n",
            "bonues is 8%\n"
          ]
        }
      ]
    },
    {
      "cell_type": "markdown",
      "source": [
        "while loop\n"
      ],
      "metadata": {
        "id": "LKUTC4Ta2f5s"
      }
    },
    {
      "cell_type": "code",
      "source": [
        "num = 10\n",
        "add = 0\n",
        "i = 1\n",
        "while(i <= num):\n",
        "  add = add + i\n",
        "  i = i + 1\n",
        "print(\"sum is:\", add)"
      ],
      "metadata": {
        "colab": {
          "base_uri": "https://localhost:8080/"
        },
        "id": "HLdL5a302hmz",
        "outputId": "d39d5f2c-4393-4a1c-b4f0-42a9c26c0f70"
      },
      "execution_count": 24,
      "outputs": [
        {
          "output_type": "stream",
          "name": "stdout",
          "text": [
            "sum is: 55\n"
          ]
        }
      ]
    },
    {
      "cell_type": "markdown",
      "source": [
        "python collection objects\n",
        "\n"
      ],
      "metadata": {
        "id": "Ve9ARCib3bq2"
      }
    },
    {
      "cell_type": "code",
      "source": [
        "name = \"jas\"\n",
        "print(name)\n",
        "type(name)"
      ],
      "metadata": {
        "colab": {
          "base_uri": "https://localhost:8080/"
        },
        "id": "2foSlSMO3dBp",
        "outputId": "ddb32467-7691-413a-a61d-2e25322b090c"
      },
      "execution_count": 26,
      "outputs": [
        {
          "output_type": "stream",
          "name": "stdout",
          "text": [
            "jas\n"
          ]
        },
        {
          "output_type": "execute_result",
          "data": {
            "text/plain": [
              "str"
            ]
          },
          "metadata": {},
          "execution_count": 26
        }
      ]
    },
    {
      "cell_type": "markdown",
      "source": [
        "indexing and slicing"
      ],
      "metadata": {
        "id": "tyYJuVxE3rtS"
      }
    },
    {
      "cell_type": "code",
      "source": [
        "a = \"i love python\"\n",
        "a[2:4]\n"
      ],
      "metadata": {
        "colab": {
          "base_uri": "https://localhost:8080/",
          "height": 36
        },
        "id": "suJaRHlB3usX",
        "outputId": "c7013b79-cd12-4522-e02a-981857c3540f"
      },
      "execution_count": 34,
      "outputs": [
        {
          "output_type": "execute_result",
          "data": {
            "text/plain": [
              "'lo'"
            ],
            "application/vnd.google.colaboratory.intrinsic+json": {
              "type": "string"
            }
          },
          "metadata": {},
          "execution_count": 34
        }
      ]
    },
    {
      "cell_type": "code",
      "source": [
        "a[:4]"
      ],
      "metadata": {
        "colab": {
          "base_uri": "https://localhost:8080/",
          "height": 36
        },
        "id": "Y30jabzh6aqG",
        "outputId": "ec31d6a8-c7df-46cf-80e0-08fe5c660e17"
      },
      "execution_count": 35,
      "outputs": [
        {
          "output_type": "execute_result",
          "data": {
            "text/plain": [
              "'i lo'"
            ],
            "application/vnd.google.colaboratory.intrinsic+json": {
              "type": "string"
            }
          },
          "metadata": {},
          "execution_count": 35
        }
      ]
    },
    {
      "cell_type": "code",
      "source": [
        "a[:-1]"
      ],
      "metadata": {
        "colab": {
          "base_uri": "https://localhost:8080/",
          "height": 36
        },
        "id": "IfD68Sd46Qzh",
        "outputId": "0832d2bb-8c3e-4584-8a46-813839ccca88"
      },
      "execution_count": 36,
      "outputs": [
        {
          "output_type": "execute_result",
          "data": {
            "text/plain": [
              "'i love pytho'"
            ],
            "application/vnd.google.colaboratory.intrinsic+json": {
              "type": "string"
            }
          },
          "metadata": {},
          "execution_count": 36
        }
      ]
    },
    {
      "cell_type": "code",
      "source": [
        "a[::-3][-2]"
      ],
      "metadata": {
        "colab": {
          "base_uri": "https://localhost:8080/",
          "height": 36
        },
        "id": "TyN7c6FV6n_f",
        "outputId": "cd145d43-77e4-4b9c-c7db-60064e3df772"
      },
      "execution_count": 37,
      "outputs": [
        {
          "output_type": "execute_result",
          "data": {
            "text/plain": [
              "'o'"
            ],
            "application/vnd.google.colaboratory.intrinsic+json": {
              "type": "string"
            }
          },
          "metadata": {},
          "execution_count": 37
        }
      ]
    },
    {
      "cell_type": "markdown",
      "source": [
        "in built functions"
      ],
      "metadata": {
        "id": "cSC1f44s7Tph"
      }
    },
    {
      "cell_type": "code",
      "source": [
        " a = a.replace(\"python\",\"hate\")"
      ],
      "metadata": {
        "id": "bOzazsXs7WJO"
      },
      "execution_count": 42,
      "outputs": []
    },
    {
      "cell_type": "code",
      "source": [
        "a.upper()"
      ],
      "metadata": {
        "colab": {
          "base_uri": "https://localhost:8080/",
          "height": 36
        },
        "id": "I0c4DshF67LX",
        "outputId": "60f2d5cc-d22d-4a1e-c312-ef7287b55b75"
      },
      "execution_count": 43,
      "outputs": [
        {
          "output_type": "execute_result",
          "data": {
            "text/plain": [
              "'I LOVE HATE'"
            ],
            "application/vnd.google.colaboratory.intrinsic+json": {
              "type": "string"
            }
          },
          "metadata": {},
          "execution_count": 43
        }
      ]
    },
    {
      "cell_type": "code",
      "source": [],
      "metadata": {
        "id": "e4b4WeSK7fvb"
      },
      "execution_count": null,
      "outputs": []
    },
    {
      "cell_type": "markdown",
      "source": [
        "concate and append\n"
      ],
      "metadata": {
        "id": "J3odRMwB-ILl"
      }
    },
    {
      "cell_type": "code",
      "source": [
        "ds = [\"ab\",\"cd\",\"ef\"]\n",
        "nov = [\"sd\",\"df\",\"er\"]\n",
        "bd = ds + nov\n",
        "print(bd)\n",
        "type(bd)\n",
        "nov.append(\"asd\")"
      ],
      "metadata": {
        "colab": {
          "base_uri": "https://localhost:8080/"
        },
        "id": "efduN8Li-KXd",
        "outputId": "78205767-4746-4019-b7a4-55068655259b"
      },
      "execution_count": 46,
      "outputs": [
        {
          "output_type": "stream",
          "name": "stdout",
          "text": [
            "['ab', 'cd', 'ef', 'sd', 'df', 'er']\n"
          ]
        }
      ]
    },
    {
      "cell_type": "code",
      "source": [],
      "metadata": {
        "id": "6F-96mCu-w73"
      },
      "execution_count": null,
      "outputs": []
    }
  ]
}