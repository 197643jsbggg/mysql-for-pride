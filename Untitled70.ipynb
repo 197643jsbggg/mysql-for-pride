{
  "nbformat": 4,
  "nbformat_minor": 0,
  "metadata": {
    "colab": {
      "provenance": [],
      "mount_file_id": "1djVC2zq5QKEczyYyXhIamwl0kUaklABi",
      "authorship_tag": "ABX9TyO/3H4apsDIJnhiO3gGQbPX",
      "include_colab_link": true
    },
    "kernelspec": {
      "name": "python3",
      "display_name": "Python 3"
    },
    "language_info": {
      "name": "python"
    }
  },
  "cells": [
    {
      "cell_type": "markdown",
      "metadata": {
        "id": "view-in-github",
        "colab_type": "text"
      },
      "source": [
        "<a href=\"https://colab.research.google.com/github/197643jsbggg/mysql-for-pride/blob/main/Untitled70.ipynb\" target=\"_parent\"><img src=\"https://colab.research.google.com/assets/colab-badge.svg\" alt=\"Open In Colab\"/></a>"
      ]
    },
    {
      "cell_type": "markdown",
      "source": [],
      "metadata": {
        "id": "MWU5hSMXg3ol"
      }
    },
    {
      "cell_type": "markdown",
      "source": [
        "reassigning variables\n"
      ],
      "metadata": {
        "id": "fCzsmPNHg5vC"
      }
    },
    {
      "cell_type": "code",
      "source": [
        "name = 'jaswanth'\n",
        "name = 'ajay'\n",
        "print(name)"
      ],
      "metadata": {
        "colab": {
          "base_uri": "https://localhost:8080/"
        },
        "id": "nUUT1TFGg9vt",
        "outputId": "fc5549c2-7d7c-4fcb-d68f-3a199afc5132"
      },
      "execution_count": null,
      "outputs": [
        {
          "output_type": "stream",
          "name": "stdout",
          "text": [
            "ajay\n"
          ]
        }
      ]
    },
    {
      "cell_type": "code",
      "source": [
        "friend_name = name\n",
        "print(friend_name )"
      ],
      "metadata": {
        "colab": {
          "base_uri": "https://localhost:8080/"
        },
        "id": "9s4bruJvhFup",
        "outputId": "4f3bd115-0639-40a0-8fb7-8a98590f272c"
      },
      "execution_count": null,
      "outputs": [
        {
          "output_type": "stream",
          "name": "stdout",
          "text": [
            "ajay\n"
          ]
        }
      ]
    },
    {
      "cell_type": "code",
      "source": [
        "ajay_age = jaswanth_age = chitti_age = 20\n",
        "print(ajay_age)\n",
        "print(jaswanth_age)\n",
        "print(chitti_age)"
      ],
      "metadata": {
        "colab": {
          "base_uri": "https://localhost:8080/"
        },
        "id": "VH5qkIbRhVTz",
        "outputId": "033b6686-02c3-4c0f-c84a-4e44186a2514"
      },
      "execution_count": null,
      "outputs": [
        {
          "output_type": "stream",
          "name": "stdout",
          "text": [
            "20\n",
            "20\n",
            "20\n"
          ]
        }
      ]
    },
    {
      "cell_type": "markdown",
      "source": [
        "string variables\n"
      ],
      "metadata": {
        "id": "dsJghgaPhxJT"
      }
    },
    {
      "cell_type": "code",
      "source": [
        "name = 'vasu'\n",
        "print(name)\n",
        "print(type(name))"
      ],
      "metadata": {
        "colab": {
          "base_uri": "https://localhost:8080/"
        },
        "id": "QkXQZgrMhzvt",
        "outputId": "0f4a24b7-e183-4c3a-9b3d-35be0823d0b9"
      },
      "execution_count": null,
      "outputs": [
        {
          "output_type": "stream",
          "name": "stdout",
          "text": [
            "vasu\n",
            "<class 'str'>\n"
          ]
        }
      ]
    },
    {
      "cell_type": "markdown",
      "source": [
        "implict functions\n"
      ],
      "metadata": {
        "id": "FCGDw1KaikpI"
      }
    },
    {
      "cell_type": "code",
      "source": [
        "a = 7\n",
        "print(type(a))"
      ],
      "metadata": {
        "colab": {
          "base_uri": "https://localhost:8080/"
        },
        "id": "xuGhoWmBh-FQ",
        "outputId": "3cbfb123-bbef-4581-96cc-013c9e30e3ef"
      },
      "execution_count": null,
      "outputs": [
        {
          "output_type": "stream",
          "name": "stdout",
          "text": [
            "<class 'int'>\n"
          ]
        }
      ]
    },
    {
      "cell_type": "markdown",
      "source": [
        "explict functions"
      ],
      "metadata": {
        "id": "SvV50zZEivlf"
      }
    },
    {
      "cell_type": "code",
      "source": [
        "a = 5\n",
        "n = float(a)\n",
        "print(n)\n",
        "print(type(n))\n"
      ],
      "metadata": {
        "colab": {
          "base_uri": "https://localhost:8080/"
        },
        "id": "fLSxvHk-ipsV",
        "outputId": "2612123b-e8b5-4977-d9b5-7fc7284d2278"
      },
      "execution_count": null,
      "outputs": [
        {
          "output_type": "stream",
          "name": "stdout",
          "text": [
            "5.0\n",
            "<class 'float'>\n"
          ]
        }
      ]
    },
    {
      "cell_type": "markdown",
      "source": [
        "typecasting\n"
      ],
      "metadata": {
        "id": "bBA7p28UjFN1"
      }
    },
    {
      "cell_type": "code",
      "source": [
        "a = 7\n",
        "print(type(a))\n",
        "b = 3.0\n",
        "print(type(b))\n",
        "c = a + b\n",
        "print(c)\n",
        "print(type(c))\n",
        "d = a * b\n",
        "print(d)\n",
        "print(type(d))"
      ],
      "metadata": {
        "colab": {
          "base_uri": "https://localhost:8080/"
        },
        "id": "3WOiU4STjIDO",
        "outputId": "9847e6d8-1f57-4a3e-b92d-b08be67eedd5"
      },
      "execution_count": null,
      "outputs": [
        {
          "output_type": "stream",
          "name": "stdout",
          "text": [
            "<class 'int'>\n",
            "<class 'float'>\n",
            "10.0\n",
            "<class 'float'>\n",
            "21.0\n",
            "<class 'float'>\n"
          ]
        }
      ]
    },
    {
      "cell_type": "code",
      "source": [
        "a = 7\n",
        "str(a)"
      ],
      "metadata": {
        "colab": {
          "base_uri": "https://localhost:8080/",
          "height": 36
        },
        "id": "8WbLPXGFjeLv",
        "outputId": "8e090565-6314-4c43-920b-ba83e84d8137"
      },
      "execution_count": null,
      "outputs": [
        {
          "output_type": "execute_result",
          "data": {
            "text/plain": [
              "'7'"
            ],
            "application/vnd.google.colaboratory.intrinsic+json": {
              "type": "string"
            }
          },
          "metadata": {},
          "execution_count": 9
        }
      ]
    },
    {
      "cell_type": "markdown",
      "source": [
        "concentation\n"
      ],
      "metadata": {
        "id": "3E2TNqr_mYr_"
      }
    },
    {
      "cell_type": "code",
      "source": [
        "var1 = \"Hello \"\n",
        "var2 = \"Geek\"\n",
        "var3 = var1 + var2\n",
        "print(var3)"
      ],
      "metadata": {
        "colab": {
          "base_uri": "https://localhost:8080/"
        },
        "id": "5BvkrXzhnB3w",
        "outputId": "0ea83e7b-33f9-4b9a-c267-1e121530dbd6"
      },
      "execution_count": null,
      "outputs": [
        {
          "output_type": "stream",
          "name": "stdout",
          "text": [
            "Hello Geek\n"
          ]
        }
      ]
    },
    {
      "cell_type": "code",
      "source": [],
      "metadata": {
        "id": "x0t1CZJSmQeT"
      },
      "execution_count": null,
      "outputs": []
    },
    {
      "cell_type": "markdown",
      "source": [
        "concentation with type casting"
      ],
      "metadata": {
        "id": "STnmaF9fncAK"
      }
    },
    {
      "cell_type": "code",
      "source": [
        "print(\"avengersassemble\" + str(25))"
      ],
      "metadata": {
        "colab": {
          "base_uri": "https://localhost:8080/"
        },
        "id": "ZOpWc107nfVY",
        "outputId": "b7f3ea85-3e6c-483e-a5cc-9e6bee5656bf"
      },
      "execution_count": null,
      "outputs": [
        {
          "output_type": "stream",
          "name": "stdout",
          "text": [
            "avengersassemble25\n"
          ]
        }
      ]
    },
    {
      "cell_type": "markdown",
      "source": [
        "arithmetic operators"
      ],
      "metadata": {
        "id": "kDUyPnKOntl8"
      }
    },
    {
      "cell_type": "code",
      "source": [
        "a = 142\n",
        "b = 1\n",
        "print(a+b)"
      ],
      "metadata": {
        "colab": {
          "base_uri": "https://localhost:8080/"
        },
        "id": "TqnN4pQsnwBJ",
        "outputId": "f5f8ff84-ae81-43eb-d515-280d67c033a8"
      },
      "execution_count": null,
      "outputs": [
        {
          "output_type": "stream",
          "name": "stdout",
          "text": [
            "143\n"
          ]
        }
      ]
    },
    {
      "cell_type": "code",
      "source": [
        "a = \"love\"\n",
        "b = \"you\"\n",
        "print(a+b)"
      ],
      "metadata": {
        "colab": {
          "base_uri": "https://localhost:8080/"
        },
        "id": "GzoyyXdBn4ny",
        "outputId": "00d5acd4-9216-4759-9bc2-e69ae9e1f61f"
      },
      "execution_count": null,
      "outputs": [
        {
          "output_type": "stream",
          "name": "stdout",
          "text": [
            "loveyou\n"
          ]
        }
      ]
    },
    {
      "cell_type": "code",
      "source": [
        "a = \"iloveyou\"\n",
        "b = str(3000)\n",
        "print(a+b)"
      ],
      "metadata": {
        "colab": {
          "base_uri": "https://localhost:8080/"
        },
        "id": "wVe6k87coCAL",
        "outputId": "6a629d3e-d57f-440f-8e2c-9cecddb54ad4"
      },
      "execution_count": null,
      "outputs": [
        {
          "output_type": "stream",
          "name": "stdout",
          "text": [
            "iloveyou3000\n"
          ]
        }
      ]
    },
    {
      "cell_type": "code",
      "source": [
        "a = \"x\"\n",
        "count = 3\n",
        "b = a * count\n",
        "print(b)"
      ],
      "metadata": {
        "colab": {
          "base_uri": "https://localhost:8080/"
        },
        "id": "oMPXNk81oVDd",
        "outputId": "0a646a3f-6197-4179-bb63-0f820968594d"
      },
      "execution_count": null,
      "outputs": [
        {
          "output_type": "stream",
          "name": "stdout",
          "text": [
            "xxx\n"
          ]
        }
      ]
    },
    {
      "cell_type": "code",
      "source": [],
      "metadata": {
        "id": "iLNmx7kNpBo7"
      },
      "execution_count": null,
      "outputs": []
    },
    {
      "cell_type": "markdown",
      "source": [
        "modulus"
      ],
      "metadata": {
        "id": "KC8WvP-3pQIN"
      }
    },
    {
      "cell_type": "code",
      "source": [
        "a = 20\n",
        "b = a **2\n",
        "print(b)"
      ],
      "metadata": {
        "colab": {
          "base_uri": "https://localhost:8080/"
        },
        "id": "oYbhMm-7pRbw",
        "outputId": "68fbf734-4a66-4613-f931-c5697b4900bd"
      },
      "execution_count": null,
      "outputs": [
        {
          "output_type": "stream",
          "name": "stdout",
          "text": [
            "400\n"
          ]
        }
      ]
    },
    {
      "cell_type": "code",
      "source": [],
      "metadata": {
        "id": "Mb6upIOBrRhd"
      },
      "execution_count": null,
      "outputs": []
    }
  ]
}