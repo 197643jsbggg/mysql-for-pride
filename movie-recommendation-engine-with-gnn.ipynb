{
 "cells": [
  {
   "cell_type": "markdown",
   "metadata": {},
   "source": [
    "# Rec Sys -> Collaborative Filtering & DL Techniques\n",
    "* **You can also view and contribute to the notebook below.**\n",
    "* **Github - [Recommender-Systems-with-Collaborative-Filtering-and-Deep-Learning-Techniques](https://github.com/Chinmayrane16/Recommender-Systems-with-Collaborative-Filtering-and-Deep-Learning-Techniques)**\n",
    "* **Do Star/Upvote if you like it :)**"
   ]
  },
  {
   "cell_type": "markdown",
   "metadata": {
    "_uuid": "6c0f989904faf30bd6df4f6982a3fb3475278b77"
   },
   "source": [
    "# What are Recommendation Systems?"
   ]
  },
  {
   "cell_type": "markdown",
   "metadata": {
    "_uuid": "ce89039a986c7744a4053976634d737eacc51d58"
   },
   "source": [
    "Every day we view and purchase products on Amazon, browse Netflix, stream music on Spotify. Have you ever wondered how accurately they know your tastes and preferences and make Recommendations based on your interests ?\n",
    "\n",
    "The answer is they have personalized Recommendation Engines which uses advanced algorithms to recommend products to you... When you want to watch a new movie, you usually ask your friends for suggesting movies, they know your interests and accordingly they suggest you a good movie.\n",
    "\n",
    "So, **Recommendation Systems work the same way, they are nothing but data filtering tools that uses algorithms to recommend most relevant items to a particular user.**\n",
    "\n",
    "Now, let us understand Why do we need Recommendation Systems and in the later part we will look at How Recommender Systems actually work?\n",
    "\n",
    "![](https://i.imgur.com/DlXYzzg.jpg)"
   ]
  },
  {
   "cell_type": "markdown",
   "metadata": {
    "_uuid": "3bfb230af118afa9b264b5515e9e1ab31ce58f2e"
   },
   "source": [
    "# Why do we need Recommendation Systems?"
   ]
  },
  {
   "cell_type": "markdown",
   "metadata": {
    "_uuid": "c4d599b1a68b9d974798d832f8e01b00e5bae20a"
   },
   "source": [
    "Internet is a vast ocean of Information, it consists of millions of items, a really large catalogue of products. There are some Users that know what they are looking for whereas others have no idea what to look for in such a large library of resources, and thus, Recommendation Systems play a vital role.\n",
    "\n",
    "There are some products which may be really good but have not gained **Popularity** since they have not been advertised, so recommendation systems help such items gain popularity by bringing such items to one's notice.\n",
    "\n",
    "It even helps in **Ad Targeting**- Say you're looking to buy a new laptop on Internet, your recent searches are based on laptop suggestions, and soon you'll start seeing ads on websites offering discounts on laptops. So, Ad Targeting is an advertisement technique meant to deliver ads automatically by using specialized software and algorithms that place ads depending on the user’s recent searches. Ad targeting was pegged to have secured 2.7 times as much revenue as non-targeted ads, as shown by a study conducted in 2009 by the Network Advertising Initiative.\n",
    "\n",
    "Thus, it also helps in **Increasing Revenues** of the product's Organization."
   ]
  },
  {
   "cell_type": "markdown",
   "metadata": {
    "_uuid": "605768a5174a2cdc24fd9c42539cdf2156c8fd3f"
   },
   "source": [
    "# Contents\n",
    "1. [**Exploring the Dataset**](#there_you_go_1)\n",
    "> *  [1.1 Importing Libraries ](#there_you_go_1.1)\n",
    "  * [1.2 Extract dataset ](#there_you_go_1.2)\n",
    "  >> * [1.2.1 Ratings](#there_you_go_1.2.1)\n",
    "    * [1.2.2 Movies](#there_you_go_1.2.2)\n",
    "  * [1.3 Combining the Movies and Ratings Dataframe ](#there_you_go_1.3)\n",
    "2. [**Visualizing the Dataset**](#there_you_go_2)\n",
    "> * [2.1 Genres ](#there_you_go_2.1)\n",
    "  * [2.2 Heavily Rated Movies ](#there_you_go_2.2)\n",
    "  * [2.3 Highly rated Movies](#there_you_go_2.3)\n",
    "  * [2.4 Mean ratings vs Total number of ratings](#there_you_go_2.4)\n",
    "3. [**Collaborative Filtering**](#there_you_go_3)\n",
    "> * [3.1 Create User-Item Matrix ](#there_you_go_3.1)\n",
    " * [3.2 Memory Based CF ](#there_you_go_3.2)\n",
    " >> * [3.2.1 User Based CF](#there_you_go_3.2.1)\n",
    "     * [3.2.2 Item based CF](#there_you_go_3.2.2)\n",
    " * [3.3 Model Based CF ](#there_you_go_3.3)\n",
    " >> * [3.3.1 K-Nearest Neighbour](#there_you_go_3.3.1)\n",
    "    * [3.3.2 Singular Value Decomposition](#there_you_go_3.3.2)\n",
    "    * [3.3.3 Non-Negative Matrix Factorization](#there_you_go_3.3.3)\n",
    "4. [**Matrix Factorization using Deep Learning**](#there_you_go_4)\n",
    "> * [4.1 Splitting Data into Train and Validation Set ](#there_you_go_4.1)\n",
    " * [4.2 Building the Model using Embedding Layers ](#there_you_go_4.2)\n",
    " * [4.3 Architecture 1 ](#there_you_go_4.3)\n",
    " * [4.4 Visulaizing the Model Architecture](#there_you_go_4.4)\n",
    " * [4.5 Compiling the Model ](#there_you_go_4.5)\n",
    " * [4.6 Fitting the Model](#there_you_go_4.6)\n",
    " * [4.7 Plotting Validation Curves](#there_you_go_4.7)\n",
    " * [4.8 Evaluating RMSE](#there_you_go_4.8)\n",
    " * [4.9 Architecture 2](#there_you_go_4.9)\n",
    " * [4.10 Visulaizing the Model Architecture](#there_you_go_4.10)\n",
    " * [4.11 Compiling the Model ](#there_you_go_4.11)\n",
    " * [4.12 Fitting the Model](#there_you_go_4.12)\n",
    " * [4.13 Plotting Validation Curves](#there_you_go_4.13)\n",
    " * [4.14 Evaluating RMSE](#there_you_go_4.14)\n",
    "5. [**References**](#there_you_go_5)"
   ]
  },
  {
   "cell_type": "markdown",
   "metadata": {
    "_uuid": "b1c20eff9bfa834c52cc14c7ff3c502198e18d2e"
   },
   "source": [
    "<a id=\"there_you_go_1\"></a>\n",
    "# 1) Exploring the Dataset\n",
    "The dataset we are going to use is the MovieLens Dataset, which cotains 100k ratings of approximately 9000 movies by 700 users.\n",
    "Let's have a look at the dataset."
   ]
  },
  {
   "cell_type": "markdown",
   "metadata": {
    "_uuid": "0a483be448fcd08898f87bf8136984055df69d8a"
   },
   "source": [
    "<a id=\"there_you_go_1.1\"></a>\n",
    "## 1.1) Importing the Libraries "
   ]
  },
  {
   "cell_type": "code",
   "execution_count": 1,
   "metadata": {
    "_cell_guid": "b1076dfc-b9ad-4769-8c92-a6c4dae69d19",
    "_uuid": "8f2839f25d086af736a60e9eeb907d3b93b6e0e5",
    "execution": {
     "iopub.execute_input": "2022-05-17T10:37:16.921196Z",
     "iopub.status.busy": "2022-05-17T10:37:16.920769Z",
     "iopub.status.idle": "2022-05-17T10:37:19.830792Z",
     "shell.execute_reply": "2022-05-17T10:37:19.829957Z",
     "shell.execute_reply.started": "2022-05-17T10:37:16.921139Z"
    }
   },
   "outputs": [
    {
     "name": "stderr",
     "output_type": "stream",
     "text": [
      "Using TensorFlow backend.\n"
     ]
    }
   ],
   "source": [
    "# Ignore warnings :\n",
    "import warnings\n",
    "warnings.filterwarnings('ignore')\n",
    "\n",
    "\n",
    "# Handle table-like data and matrices :\n",
    "import numpy as np\n",
    "import pandas as pd\n",
    "import math \n",
    "import itertools\n",
    "\n",
    "# Modelling Helpers :\n",
    "from sklearn.preprocessing import Imputer , Normalizer , scale\n",
    "from sklearn.model_selection import train_test_split\n",
    "from sklearn.metrics import confusion_matrix\n",
    "from sklearn.feature_selection import RFECV\n",
    "from sklearn.model_selection import GridSearchCV , KFold , cross_val_score\n",
    "\n",
    "\n",
    "\n",
    "# Evaluation metrics :\n",
    "\n",
    "# Regression\n",
    "from sklearn.metrics import mean_squared_log_error,mean_squared_error, r2_score,mean_absolute_error \n",
    "\n",
    "# Classification\n",
    "from sklearn.metrics import accuracy_score,precision_score,recall_score,f1_score\n",
    "\n",
    "\n",
    "# Deep Learning Libraries\n",
    "from keras.models import Sequential, load_model\n",
    "from keras.layers import Dense, Dropout, Flatten\n",
    "from keras.layers import Conv2D, MaxPooling2D, BatchNormalization\n",
    "from keras.optimizers import Adam,SGD,Adagrad,Adadelta,RMSprop\n",
    "from keras.preprocessing.image import ImageDataGenerator\n",
    "from keras.callbacks import ReduceLROnPlateau, LearningRateScheduler\n",
    "from keras.utils import to_categorical\n",
    "\n",
    "\n",
    "# Visualisation\n",
    "import matplotlib as mpl\n",
    "import matplotlib.pyplot as plt\n",
    "import matplotlib.pylab as pylab\n",
    "import seaborn as sns\n",
    "import missingno as msno\n",
    "\n",
    "\n",
    "# Configure visualisations\n",
    "%matplotlib inline\n",
    "mpl.style.use( 'ggplot' )\n",
    "plt.style.use('fivethirtyeight')\n",
    "sns.set(context=\"notebook\", palette=\"dark\", style = 'whitegrid' , color_codes=True)"
   ]
  },
  {
   "cell_type": "code",
   "execution_count": 2,
   "metadata": {
    "_cell_guid": "79c7e3d0-c299-4dcb-8224-4455121ee9b0",
    "_uuid": "d629ff2d2480ee46fbb7e2d37f6b5fab8052498a",
    "execution": {
     "iopub.execute_input": "2022-05-17T10:37:25.553607Z",
     "iopub.status.busy": "2022-05-17T10:37:25.553311Z",
     "iopub.status.idle": "2022-05-17T10:37:25.559565Z",
     "shell.execute_reply": "2022-05-17T10:37:25.558824Z",
     "shell.execute_reply.started": "2022-05-17T10:37:25.553557Z"
    }
   },
   "outputs": [],
   "source": [
    "# Center all plots\n",
    "from IPython.core.display import HTML\n",
    "HTML(\"\"\"\n",
    "<style>\n",
    ".output_png {\n",
    "    display: table-cell;\n",
    "    text-align: center;\n",
    "    vertical-align: middle;\n",
    "}\n",
    "</style>\n",
    "\"\"\");\n",
    "\n",
    "\n",
    "# Make Visualizations better\n",
    "params = { \n",
    "    'axes.labelsize': \"large\",\n",
    "    'xtick.labelsize': 'x-large',\n",
    "    'legend.fontsize': 20,\n",
    "    'figure.dpi': 150,\n",
    "    'figure.figsize': [25, 7]\n",
    "}\n",
    "plt.rcParams.update(params)"
   ]
  },
  {
   "cell_type": "code",
   "execution_count": 3,
   "metadata": {
    "_uuid": "7757d7eb49a78b0b35f168d720f024ce173272b7",
    "execution": {
     "iopub.execute_input": "2022-05-17T10:37:27.157245Z",
     "iopub.status.busy": "2022-05-17T10:37:27.156890Z",
     "iopub.status.idle": "2022-05-17T10:37:27.168556Z",
     "shell.execute_reply": "2022-05-17T10:37:27.167811Z",
     "shell.execute_reply.started": "2022-05-17T10:37:27.157183Z"
    }
   },
   "outputs": [
    {
     "name": "stdout",
     "output_type": "stream",
     "text": [
      "['movies.csv', 'ratings.csv', 'README.txt', 'tags.csv', 'links.csv']\n"
     ]
    }
   ],
   "source": [
    "import os\n",
    "print(os.listdir('../input/'))"
   ]
  },
  {
   "cell_type": "markdown",
   "metadata": {
    "_uuid": "584d9c76c6aa62617e9c4e3317538f72b8edf348"
   },
   "source": [
    "<a id=\"there_you_go_1.2\"></a>\n",
    "## 1.2) Extract Dataset"
   ]
  },
  {
   "cell_type": "code",
   "execution_count": 4,
   "metadata": {
    "_uuid": "82b99b1c7d3e3b31dc931858723cf5f94d4609b3",
    "execution": {
     "iopub.execute_input": "2022-05-17T10:37:30.294547Z",
     "iopub.status.busy": "2022-05-17T10:37:30.294243Z",
     "iopub.status.idle": "2022-05-17T10:37:30.399647Z",
     "shell.execute_reply": "2022-05-17T10:37:30.398914Z",
     "shell.execute_reply.started": "2022-05-17T10:37:30.294494Z"
    }
   },
   "outputs": [],
   "source": [
    "ratings = pd.read_csv('../input/ratings.csv')\n",
    "movies = pd.read_csv('../input/movies.csv')\n",
    "df_r = ratings.copy()\n",
    "df_m = movies.copy()"
   ]
  },
  {
   "cell_type": "markdown",
   "metadata": {
    "_uuid": "8cc4959db5ac479ea2fa78d250e1be2fab81fc4c"
   },
   "source": [
    "<a id=\"there_you_go_1.2.1\"></a>\n",
    "### 1.2.1) Ratings"
   ]
  },
  {
   "cell_type": "code",
   "execution_count": 5,
   "metadata": {
    "_uuid": "4c97be375d2ecf347ea13910686cc6942c378844",
    "execution": {
     "iopub.execute_input": "2022-05-17T10:37:32.648900Z",
     "iopub.status.busy": "2022-05-17T10:37:32.648590Z",
     "iopub.status.idle": "2022-05-17T10:37:32.670594Z",
     "shell.execute_reply": "2022-05-17T10:37:32.669811Z",
     "shell.execute_reply.started": "2022-05-17T10:37:32.648847Z"
    },
    "scrolled": true
   },
   "outputs": [
    {
     "data": {
      "text/html": [
       "<div>\n",
       "<style scoped>\n",
       "    .dataframe tbody tr th:only-of-type {\n",
       "        vertical-align: middle;\n",
       "    }\n",
       "\n",
       "    .dataframe tbody tr th {\n",
       "        vertical-align: top;\n",
       "    }\n",
       "\n",
       "    .dataframe thead th {\n",
       "        text-align: right;\n",
       "    }\n",
       "</style>\n",
       "<table border=\"1\" class=\"dataframe\">\n",
       "  <thead>\n",
       "    <tr style=\"text-align: right;\">\n",
       "      <th></th>\n",
       "      <th>userId</th>\n",
       "      <th>movieId</th>\n",
       "      <th>rating</th>\n",
       "      <th>timestamp</th>\n",
       "    </tr>\n",
       "  </thead>\n",
       "  <tbody>\n",
       "    <tr>\n",
       "      <th>0</th>\n",
       "      <td>1</td>\n",
       "      <td>1</td>\n",
       "      <td>4.0</td>\n",
       "      <td>964982703</td>\n",
       "    </tr>\n",
       "    <tr>\n",
       "      <th>1</th>\n",
       "      <td>1</td>\n",
       "      <td>3</td>\n",
       "      <td>4.0</td>\n",
       "      <td>964981247</td>\n",
       "    </tr>\n",
       "    <tr>\n",
       "      <th>2</th>\n",
       "      <td>1</td>\n",
       "      <td>6</td>\n",
       "      <td>4.0</td>\n",
       "      <td>964982224</td>\n",
       "    </tr>\n",
       "    <tr>\n",
       "      <th>3</th>\n",
       "      <td>1</td>\n",
       "      <td>47</td>\n",
       "      <td>5.0</td>\n",
       "      <td>964983815</td>\n",
       "    </tr>\n",
       "    <tr>\n",
       "      <th>4</th>\n",
       "      <td>1</td>\n",
       "      <td>50</td>\n",
       "      <td>5.0</td>\n",
       "      <td>964982931</td>\n",
       "    </tr>\n",
       "  </tbody>\n",
       "</table>\n",
       "</div>"
      ],
      "text/plain": [
       "   userId  movieId  rating  timestamp\n",
       "0       1        1     4.0  964982703\n",
       "1       1        3     4.0  964981247\n",
       "2       1        6     4.0  964982224\n",
       "3       1       47     5.0  964983815\n",
       "4       1       50     5.0  964982931"
      ]
     },
     "execution_count": 5,
     "metadata": {},
     "output_type": "execute_result"
    }
   ],
   "source": [
    "ratings.head()"
   ]
  },
  {
   "cell_type": "markdown",
   "metadata": {
    "_uuid": "e3ec44591a522a197809987ac97070c23da2c78b"
   },
   "source": [
    "As you can see the \"ratings\" dataframe has 4 columns.\n",
    "* **userId** - Every user is represented by an unique Id.\n",
    "* **movieId** - Every movie is represented by an uniue Id.\n",
    "* **rating** - Represents the rating given by the user to the corresponding movie.\n",
    "* **timestamp** - The time at which the rating was recorded."
   ]
  },
  {
   "cell_type": "code",
   "execution_count": 6,
   "metadata": {
    "_uuid": "cbf5afdd3663c9f0a206da2244063f41f4e87384",
    "execution": {
     "iopub.execute_input": "2022-05-17T10:37:36.707937Z",
     "iopub.status.busy": "2022-05-17T10:37:36.707199Z",
     "iopub.status.idle": "2022-05-17T10:37:36.713858Z",
     "shell.execute_reply": "2022-05-17T10:37:36.713047Z",
     "shell.execute_reply.started": "2022-05-17T10:37:36.707876Z"
    }
   },
   "outputs": [
    {
     "data": {
      "text/plain": [
       "(100836, 4)"
      ]
     },
     "execution_count": 6,
     "metadata": {},
     "output_type": "execute_result"
    }
   ],
   "source": [
    "ratings.shape"
   ]
  },
  {
   "cell_type": "code",
   "execution_count": 7,
   "metadata": {
    "_uuid": "6193a5bdb14f1bd80f84ba9327619c4f7c653802",
    "execution": {
     "iopub.execute_input": "2022-05-17T10:37:39.628095Z",
     "iopub.status.busy": "2022-05-17T10:37:39.627772Z",
     "iopub.status.idle": "2022-05-17T10:37:39.664164Z",
     "shell.execute_reply": "2022-05-17T10:37:39.663509Z",
     "shell.execute_reply.started": "2022-05-17T10:37:39.628042Z"
    }
   },
   "outputs": [
    {
     "data": {
      "text/html": [
       "<div>\n",
       "<style scoped>\n",
       "    .dataframe tbody tr th:only-of-type {\n",
       "        vertical-align: middle;\n",
       "    }\n",
       "\n",
       "    .dataframe tbody tr th {\n",
       "        vertical-align: top;\n",
       "    }\n",
       "\n",
       "    .dataframe thead th {\n",
       "        text-align: right;\n",
       "    }\n",
       "</style>\n",
       "<table border=\"1\" class=\"dataframe\">\n",
       "  <thead>\n",
       "    <tr style=\"text-align: right;\">\n",
       "      <th></th>\n",
       "      <th>userId</th>\n",
       "      <th>movieId</th>\n",
       "      <th>rating</th>\n",
       "      <th>timestamp</th>\n",
       "    </tr>\n",
       "  </thead>\n",
       "  <tbody>\n",
       "    <tr>\n",
       "      <th>count</th>\n",
       "      <td>100836.000000</td>\n",
       "      <td>100836.000000</td>\n",
       "      <td>100836.000000</td>\n",
       "      <td>1.008360e+05</td>\n",
       "    </tr>\n",
       "    <tr>\n",
       "      <th>mean</th>\n",
       "      <td>326.127564</td>\n",
       "      <td>19435.295718</td>\n",
       "      <td>3.501557</td>\n",
       "      <td>1.205946e+09</td>\n",
       "    </tr>\n",
       "    <tr>\n",
       "      <th>std</th>\n",
       "      <td>182.618491</td>\n",
       "      <td>35530.987199</td>\n",
       "      <td>1.042529</td>\n",
       "      <td>2.162610e+08</td>\n",
       "    </tr>\n",
       "    <tr>\n",
       "      <th>min</th>\n",
       "      <td>1.000000</td>\n",
       "      <td>1.000000</td>\n",
       "      <td>0.500000</td>\n",
       "      <td>8.281246e+08</td>\n",
       "    </tr>\n",
       "    <tr>\n",
       "      <th>25%</th>\n",
       "      <td>177.000000</td>\n",
       "      <td>1199.000000</td>\n",
       "      <td>3.000000</td>\n",
       "      <td>1.019124e+09</td>\n",
       "    </tr>\n",
       "    <tr>\n",
       "      <th>50%</th>\n",
       "      <td>325.000000</td>\n",
       "      <td>2991.000000</td>\n",
       "      <td>3.500000</td>\n",
       "      <td>1.186087e+09</td>\n",
       "    </tr>\n",
       "    <tr>\n",
       "      <th>75%</th>\n",
       "      <td>477.000000</td>\n",
       "      <td>8122.000000</td>\n",
       "      <td>4.000000</td>\n",
       "      <td>1.435994e+09</td>\n",
       "    </tr>\n",
       "    <tr>\n",
       "      <th>max</th>\n",
       "      <td>610.000000</td>\n",
       "      <td>193609.000000</td>\n",
       "      <td>5.000000</td>\n",
       "      <td>1.537799e+09</td>\n",
       "    </tr>\n",
       "  </tbody>\n",
       "</table>\n",
       "</div>"
      ],
      "text/plain": [
       "              userId        movieId         rating     timestamp\n",
       "count  100836.000000  100836.000000  100836.000000  1.008360e+05\n",
       "mean      326.127564   19435.295718       3.501557  1.205946e+09\n",
       "std       182.618491   35530.987199       1.042529  2.162610e+08\n",
       "min         1.000000       1.000000       0.500000  8.281246e+08\n",
       "25%       177.000000    1199.000000       3.000000  1.019124e+09\n",
       "50%       325.000000    2991.000000       3.500000  1.186087e+09\n",
       "75%       477.000000    8122.000000       4.000000  1.435994e+09\n",
       "max       610.000000  193609.000000       5.000000  1.537799e+09"
      ]
     },
     "execution_count": 7,
     "metadata": {},
     "output_type": "execute_result"
    }
   ],
   "source": [
    "ratings.describe()"
   ]
  },
  {
   "cell_type": "markdown",
   "metadata": {
    "_uuid": "d40afd33063271059ac295ac246146c41b2f6b07"
   },
   "source": [
    "Some insights that can be drawn are:\n",
    "\n",
    "1. The minimum rating given to the movie is 0,5 whereas the maximum rating given to the movies is 5.0\n",
    "2. The average rating that is the mean ratings given by the users to all the movies is 3.5\n",
    "3. The users have userId's in the range 1 - 610\n",
    "4. The movies have movieId's in the range 1 - 193609.( Note that 193609 is the highest movieId and not total number of movies. )\n",
    "\n",
    "Here, we will be dropping the timestamp attribute as we are not concerned with when the user rated a particular movie."
   ]
  },
  {
   "cell_type": "code",
   "execution_count": 8,
   "metadata": {
    "_uuid": "a5a04e2b5bc7625bba176707ef18194dd98afdeb",
    "execution": {
     "iopub.execute_input": "2022-05-17T10:37:46.444081Z",
     "iopub.status.busy": "2022-05-17T10:37:46.443747Z",
     "iopub.status.idle": "2022-05-17T10:37:46.450403Z",
     "shell.execute_reply": "2022-05-17T10:37:46.449368Z",
     "shell.execute_reply.started": "2022-05-17T10:37:46.444028Z"
    }
   },
   "outputs": [],
   "source": [
    "ratings.drop(['timestamp'], axis=1, inplace=True)"
   ]
  },
  {
   "cell_type": "code",
   "execution_count": 9,
   "metadata": {
    "_uuid": "25643d5a70b2dcf458d061f709aaef4a65f907a7",
    "execution": {
     "iopub.execute_input": "2022-05-17T10:37:47.273144Z",
     "iopub.status.busy": "2022-05-17T10:37:47.272839Z",
     "iopub.status.idle": "2022-05-17T10:37:47.283412Z",
     "shell.execute_reply": "2022-05-17T10:37:47.282504Z",
     "shell.execute_reply.started": "2022-05-17T10:37:47.273091Z"
    }
   },
   "outputs": [
    {
     "data": {
      "text/html": [
       "<div>\n",
       "<style scoped>\n",
       "    .dataframe tbody tr th:only-of-type {\n",
       "        vertical-align: middle;\n",
       "    }\n",
       "\n",
       "    .dataframe tbody tr th {\n",
       "        vertical-align: top;\n",
       "    }\n",
       "\n",
       "    .dataframe thead th {\n",
       "        text-align: right;\n",
       "    }\n",
       "</style>\n",
       "<table border=\"1\" class=\"dataframe\">\n",
       "  <thead>\n",
       "    <tr style=\"text-align: right;\">\n",
       "      <th></th>\n",
       "      <th>userId</th>\n",
       "      <th>movieId</th>\n",
       "      <th>rating</th>\n",
       "    </tr>\n",
       "  </thead>\n",
       "  <tbody>\n",
       "    <tr>\n",
       "      <th>0</th>\n",
       "      <td>1</td>\n",
       "      <td>1</td>\n",
       "      <td>4.0</td>\n",
       "    </tr>\n",
       "    <tr>\n",
       "      <th>1</th>\n",
       "      <td>1</td>\n",
       "      <td>3</td>\n",
       "      <td>4.0</td>\n",
       "    </tr>\n",
       "    <tr>\n",
       "      <th>2</th>\n",
       "      <td>1</td>\n",
       "      <td>6</td>\n",
       "      <td>4.0</td>\n",
       "    </tr>\n",
       "    <tr>\n",
       "      <th>3</th>\n",
       "      <td>1</td>\n",
       "      <td>47</td>\n",
       "      <td>5.0</td>\n",
       "    </tr>\n",
       "    <tr>\n",
       "      <th>4</th>\n",
       "      <td>1</td>\n",
       "      <td>50</td>\n",
       "      <td>5.0</td>\n",
       "    </tr>\n",
       "  </tbody>\n",
       "</table>\n",
       "</div>"
      ],
      "text/plain": [
       "   userId  movieId  rating\n",
       "0       1        1     4.0\n",
       "1       1        3     4.0\n",
       "2       1        6     4.0\n",
       "3       1       47     5.0\n",
       "4       1       50     5.0"
      ]
     },
     "execution_count": 9,
     "metadata": {},
     "output_type": "execute_result"
    }
   ],
   "source": [
    "ratings.head()"
   ]
  },
  {
   "cell_type": "markdown",
   "metadata": {
    "_uuid": "0db882f8b0ba7ebb4be2e6099a866fe5515bce37"
   },
   "source": [
    "<a id=\"there_you_go_1.2.2\"></a>\n",
    "### 1.2.2) Movies"
   ]
  },
  {
   "cell_type": "code",
   "execution_count": 10,
   "metadata": {
    "_uuid": "b85ac976102e84c1070c5439e07fde2a6d7e29d4",
    "execution": {
     "iopub.execute_input": "2022-05-17T10:37:50.524523Z",
     "iopub.status.busy": "2022-05-17T10:37:50.524227Z",
     "iopub.status.idle": "2022-05-17T10:37:50.533587Z",
     "shell.execute_reply": "2022-05-17T10:37:50.532606Z",
     "shell.execute_reply.started": "2022-05-17T10:37:50.524472Z"
    }
   },
   "outputs": [
    {
     "data": {
      "text/html": [
       "<div>\n",
       "<style scoped>\n",
       "    .dataframe tbody tr th:only-of-type {\n",
       "        vertical-align: middle;\n",
       "    }\n",
       "\n",
       "    .dataframe tbody tr th {\n",
       "        vertical-align: top;\n",
       "    }\n",
       "\n",
       "    .dataframe thead th {\n",
       "        text-align: right;\n",
       "    }\n",
       "</style>\n",
       "<table border=\"1\" class=\"dataframe\">\n",
       "  <thead>\n",
       "    <tr style=\"text-align: right;\">\n",
       "      <th></th>\n",
       "      <th>movieId</th>\n",
       "      <th>title</th>\n",
       "      <th>genres</th>\n",
       "    </tr>\n",
       "  </thead>\n",
       "  <tbody>\n",
       "    <tr>\n",
       "      <th>0</th>\n",
       "      <td>1</td>\n",
       "      <td>Toy Story (1995)</td>\n",
       "      <td>Adventure|Animation|Children|Comedy|Fantasy</td>\n",
       "    </tr>\n",
       "    <tr>\n",
       "      <th>1</th>\n",
       "      <td>2</td>\n",
       "      <td>Jumanji (1995)</td>\n",
       "      <td>Adventure|Children|Fantasy</td>\n",
       "    </tr>\n",
       "    <tr>\n",
       "      <th>2</th>\n",
       "      <td>3</td>\n",
       "      <td>Grumpier Old Men (1995)</td>\n",
       "      <td>Comedy|Romance</td>\n",
       "    </tr>\n",
       "    <tr>\n",
       "      <th>3</th>\n",
       "      <td>4</td>\n",
       "      <td>Waiting to Exhale (1995)</td>\n",
       "      <td>Comedy|Drama|Romance</td>\n",
       "    </tr>\n",
       "    <tr>\n",
       "      <th>4</th>\n",
       "      <td>5</td>\n",
       "      <td>Father of the Bride Part II (1995)</td>\n",
       "      <td>Comedy</td>\n",
       "    </tr>\n",
       "  </tbody>\n",
       "</table>\n",
       "</div>"
      ],
      "text/plain": [
       "   movieId                               title  \\\n",
       "0        1                    Toy Story (1995)   \n",
       "1        2                      Jumanji (1995)   \n",
       "2        3             Grumpier Old Men (1995)   \n",
       "3        4            Waiting to Exhale (1995)   \n",
       "4        5  Father of the Bride Part II (1995)   \n",
       "\n",
       "                                        genres  \n",
       "0  Adventure|Animation|Children|Comedy|Fantasy  \n",
       "1                   Adventure|Children|Fantasy  \n",
       "2                               Comedy|Romance  \n",
       "3                         Comedy|Drama|Romance  \n",
       "4                                       Comedy  "
      ]
     },
     "execution_count": 10,
     "metadata": {},
     "output_type": "execute_result"
    }
   ],
   "source": [
    "movies.head()"
   ]
  },
  {
   "cell_type": "markdown",
   "metadata": {
    "_uuid": "83d52a2ec24be3b1ed019da5a88cd2ead2a15033"
   },
   "source": [
    "As you can see the \"movies\" dataframe has 3 columns:\n",
    "* **movieId** - Every movie is represented by an unique Id.\n",
    "* **title** - Movie which is represented by the corresponding movieId.\n",
    "* **genres** - Represents category of the movie."
   ]
  },
  {
   "cell_type": "code",
   "execution_count": 11,
   "metadata": {
    "_uuid": "f172700ce0f457bf8d477f88c09d110984436406",
    "execution": {
     "iopub.execute_input": "2022-05-17T10:37:54.198221Z",
     "iopub.status.busy": "2022-05-17T10:37:54.197909Z",
     "iopub.status.idle": "2022-05-17T10:37:54.212505Z",
     "shell.execute_reply": "2022-05-17T10:37:54.211898Z",
     "shell.execute_reply.started": "2022-05-17T10:37:54.198170Z"
    }
   },
   "outputs": [
    {
     "name": "stdout",
     "output_type": "stream",
     "text": [
      "Shape:  (9742, 3) \n",
      "\n",
      "<class 'pandas.core.frame.DataFrame'>\n",
      "RangeIndex: 9742 entries, 0 to 9741\n",
      "Data columns (total 3 columns):\n",
      "movieId    9742 non-null int64\n",
      "title      9742 non-null object\n",
      "genres     9742 non-null object\n",
      "dtypes: int64(1), object(2)\n",
      "memory usage: 228.5+ KB\n"
     ]
    }
   ],
   "source": [
    "print('Shape: ', movies.shape, '\\n')\n",
    "movies.info()"
   ]
  },
  {
   "cell_type": "markdown",
   "metadata": {
    "_uuid": "61294765bc05f49116a0f1ff287b48c007246327"
   },
   "source": [
    "<a id=\"there_you_go_1.3\"></a>\n",
    "## 1.3) Combining the Movies and Ratings DataFrame\n",
    "Let's have a combined view on both the ratings and movies dataframe.\n",
    "\n",
    "And for that we need to merge on \"movieId\" attribute since it is common between both the dataframes."
   ]
  },
  {
   "cell_type": "code",
   "execution_count": 12,
   "metadata": {
    "_uuid": "8f3642d37de0d4e04487e65b089ed12119d69e9f",
    "execution": {
     "iopub.execute_input": "2022-05-17T10:37:59.244575Z",
     "iopub.status.busy": "2022-05-17T10:37:59.244261Z",
     "iopub.status.idle": "2022-05-17T10:37:59.272560Z",
     "shell.execute_reply": "2022-05-17T10:37:59.271899Z",
     "shell.execute_reply.started": "2022-05-17T10:37:59.244521Z"
    }
   },
   "outputs": [],
   "source": [
    "df_combined = pd.merge(ratings, movies, on = 'movieId')"
   ]
  },
  {
   "cell_type": "code",
   "execution_count": 13,
   "metadata": {
    "_uuid": "5c2c75b9f091959f3f36420ac2140858d00706cb",
    "execution": {
     "iopub.execute_input": "2022-05-17T10:37:59.723461Z",
     "iopub.status.busy": "2022-05-17T10:37:59.722864Z",
     "iopub.status.idle": "2022-05-17T10:37:59.741517Z",
     "shell.execute_reply": "2022-05-17T10:37:59.740178Z",
     "shell.execute_reply.started": "2022-05-17T10:37:59.723223Z"
    }
   },
   "outputs": [
    {
     "data": {
      "text/html": [
       "<div>\n",
       "<style scoped>\n",
       "    .dataframe tbody tr th:only-of-type {\n",
       "        vertical-align: middle;\n",
       "    }\n",
       "\n",
       "    .dataframe tbody tr th {\n",
       "        vertical-align: top;\n",
       "    }\n",
       "\n",
       "    .dataframe thead th {\n",
       "        text-align: right;\n",
       "    }\n",
       "</style>\n",
       "<table border=\"1\" class=\"dataframe\">\n",
       "  <thead>\n",
       "    <tr style=\"text-align: right;\">\n",
       "      <th></th>\n",
       "      <th>userId</th>\n",
       "      <th>movieId</th>\n",
       "      <th>rating</th>\n",
       "      <th>title</th>\n",
       "      <th>genres</th>\n",
       "    </tr>\n",
       "  </thead>\n",
       "  <tbody>\n",
       "    <tr>\n",
       "      <th>0</th>\n",
       "      <td>1</td>\n",
       "      <td>1</td>\n",
       "      <td>4.0</td>\n",
       "      <td>Toy Story (1995)</td>\n",
       "      <td>Adventure|Animation|Children|Comedy|Fantasy</td>\n",
       "    </tr>\n",
       "    <tr>\n",
       "      <th>1</th>\n",
       "      <td>5</td>\n",
       "      <td>1</td>\n",
       "      <td>4.0</td>\n",
       "      <td>Toy Story (1995)</td>\n",
       "      <td>Adventure|Animation|Children|Comedy|Fantasy</td>\n",
       "    </tr>\n",
       "    <tr>\n",
       "      <th>2</th>\n",
       "      <td>7</td>\n",
       "      <td>1</td>\n",
       "      <td>4.5</td>\n",
       "      <td>Toy Story (1995)</td>\n",
       "      <td>Adventure|Animation|Children|Comedy|Fantasy</td>\n",
       "    </tr>\n",
       "    <tr>\n",
       "      <th>3</th>\n",
       "      <td>15</td>\n",
       "      <td>1</td>\n",
       "      <td>2.5</td>\n",
       "      <td>Toy Story (1995)</td>\n",
       "      <td>Adventure|Animation|Children|Comedy|Fantasy</td>\n",
       "    </tr>\n",
       "    <tr>\n",
       "      <th>4</th>\n",
       "      <td>17</td>\n",
       "      <td>1</td>\n",
       "      <td>4.5</td>\n",
       "      <td>Toy Story (1995)</td>\n",
       "      <td>Adventure|Animation|Children|Comedy|Fantasy</td>\n",
       "    </tr>\n",
       "  </tbody>\n",
       "</table>\n",
       "</div>"
      ],
      "text/plain": [
       "   userId  movieId  rating             title  \\\n",
       "0       1        1     4.0  Toy Story (1995)   \n",
       "1       5        1     4.0  Toy Story (1995)   \n",
       "2       7        1     4.5  Toy Story (1995)   \n",
       "3      15        1     2.5  Toy Story (1995)   \n",
       "4      17        1     4.5  Toy Story (1995)   \n",
       "\n",
       "                                        genres  \n",
       "0  Adventure|Animation|Children|Comedy|Fantasy  \n",
       "1  Adventure|Animation|Children|Comedy|Fantasy  \n",
       "2  Adventure|Animation|Children|Comedy|Fantasy  \n",
       "3  Adventure|Animation|Children|Comedy|Fantasy  \n",
       "4  Adventure|Animation|Children|Comedy|Fantasy  "
      ]
     },
     "execution_count": 13,
     "metadata": {},
     "output_type": "execute_result"
    }
   ],
   "source": [
    "df_combined.head()"
   ]
  },
  {
   "cell_type": "code",
   "execution_count": 14,
   "metadata": {
    "_uuid": "31b90ef3e7ea9cb480f55e2a07ff5e9823cd0458",
    "execution": {
     "iopub.execute_input": "2022-05-17T10:38:02.507706Z",
     "iopub.status.busy": "2022-05-17T10:38:02.507376Z",
     "iopub.status.idle": "2022-05-17T10:38:02.512559Z",
     "shell.execute_reply": "2022-05-17T10:38:02.511561Z",
     "shell.execute_reply.started": "2022-05-17T10:38:02.507650Z"
    }
   },
   "outputs": [
    {
     "data": {
      "text/plain": [
       "(100836, 5)"
      ]
     },
     "execution_count": 14,
     "metadata": {},
     "output_type": "execute_result"
    }
   ],
   "source": [
    "df_combined.shape"
   ]
  },
  {
   "cell_type": "markdown",
   "metadata": {
    "_uuid": "09928fa4f6e71d5a508fcedd6557a11ffbf7ebd2"
   },
   "source": [
    "<a id=\"there_you_go_2\"></a>\n",
    "# 2) Visualizations on the Dataset"
   ]
  },
  {
   "cell_type": "markdown",
   "metadata": {
    "_uuid": "2fe4775471fd87bfe678f65a4b915ffff6a8a8d2"
   },
   "source": [
    "<a id=\"there_you_go_2.1\"></a>\n",
    "## 2.1) Genres\n",
    "Lets have a look at various genres in the Dataset."
   ]
  },
  {
   "cell_type": "code",
   "execution_count": 15,
   "metadata": {
    "_uuid": "a897520396787e720f8ca7198a3f7baa1517ab77",
    "execution": {
     "iopub.execute_input": "2022-05-17T10:38:06.309521Z",
     "iopub.status.busy": "2022-05-17T10:38:06.309224Z",
     "iopub.status.idle": "2022-05-17T10:38:06.329564Z",
     "shell.execute_reply": "2022-05-17T10:38:06.328677Z",
     "shell.execute_reply.started": "2022-05-17T10:38:06.309469Z"
    }
   },
   "outputs": [],
   "source": [
    "# Create a function to find genres in the dataset\n",
    "\n",
    "genres = {} # create a dictionary to store different genre values\n",
    "\n",
    "def find_genres():\n",
    "    for genre in movies['genres']:\n",
    "        words = genre.split('|')\n",
    "        for word in words:\n",
    "            genres[word] = genres.get(word, 0) + 1\n",
    "            \n",
    "find_genres()"
   ]
  },
  {
   "cell_type": "code",
   "execution_count": 16,
   "metadata": {
    "_uuid": "952c4be8b9e0bdace08883beaa399d8f230f0584",
    "execution": {
     "iopub.execute_input": "2022-05-17T10:38:06.843171Z",
     "iopub.status.busy": "2022-05-17T10:38:06.842862Z",
     "iopub.status.idle": "2022-05-17T10:38:06.849570Z",
     "shell.execute_reply": "2022-05-17T10:38:06.848382Z",
     "shell.execute_reply.started": "2022-05-17T10:38:06.843120Z"
    }
   },
   "outputs": [
    {
     "data": {
      "text/plain": [
       "{'Adventure': 1263,\n",
       " 'Animation': 611,\n",
       " 'Children': 664,\n",
       " 'Comedy': 3756,\n",
       " 'Fantasy': 779,\n",
       " 'Romance': 1596,\n",
       " 'Drama': 4361,\n",
       " 'Action': 1828,\n",
       " 'Crime': 1199,\n",
       " 'Thriller': 1894,\n",
       " 'Horror': 978,\n",
       " 'Mystery': 573,\n",
       " 'Sci-Fi': 980,\n",
       " 'War': 382,\n",
       " 'Musical': 334,\n",
       " 'Documentary': 440,\n",
       " 'IMAX': 158,\n",
       " 'Western': 167,\n",
       " 'Film-Noir': 87,\n",
       " '(no genres listed)': 34}"
      ]
     },
     "execution_count": 16,
     "metadata": {},
     "output_type": "execute_result"
    }
   ],
   "source": [
    "genres"
   ]
  },
  {
   "cell_type": "code",
   "execution_count": 17,
   "metadata": {
    "_uuid": "304e7477eabdd4326ba063b621e66432bbeffcdb",
    "execution": {
     "iopub.execute_input": "2022-05-17T10:38:10.579917Z",
     "iopub.status.busy": "2022-05-17T10:38:10.579598Z",
     "iopub.status.idle": "2022-05-17T10:38:10.584685Z",
     "shell.execute_reply": "2022-05-17T10:38:10.583825Z",
     "shell.execute_reply.started": "2022-05-17T10:38:10.579862Z"
    }
   },
   "outputs": [],
   "source": [
    "# replace '(no genres listed)' by 'None'\n",
    "genres['None'] = genres.pop('(no genres listed)')"
   ]
  },
  {
   "cell_type": "markdown",
   "metadata": {
    "_uuid": "0b90c9816f32a5d944f0e00c19ddfa209495091a"
   },
   "source": [
    "<a id=\"there_you_go_2.1.1\"></a>\n",
    "### 2.1.1) Genre WordCloud"
   ]
  },
  {
   "cell_type": "code",
   "execution_count": 18,
   "metadata": {
    "_uuid": "7d252757351e8d36fd3b394fa8bd84c7f3156ed1",
    "execution": {
     "iopub.execute_input": "2022-05-17T10:38:11.301523Z",
     "iopub.status.busy": "2022-05-17T10:38:11.301223Z",
     "iopub.status.idle": "2022-05-17T10:38:11.860266Z",
     "shell.execute_reply": "2022-05-17T10:38:11.859451Z",
     "shell.execute_reply.started": "2022-05-17T10:38:11.301469Z"
    }
   },
   "outputs": [
    {
     "data": {
      "image/png": "[encoded data removed]",
      "text/plain": [
       "<Figure size 3750x1050 with 1 Axes>"
      ]
     },
     "metadata": {
      "needs_background": "light"
     },
     "output_type": "display_data"
    }
   ],
   "source": [
    "from wordcloud import WordCloud\n",
    "\n",
    "wordcloud = WordCloud(width=400, height=200, background_color = 'black', min_font_size=7).generate_from_frequencies(genres)\n",
    "\n",
    "plt.imshow(wordcloud)\n",
    "plt.axis('off')\n",
    "plt.show()"
   ]
  },
  {
   "cell_type": "markdown",
   "metadata": {
    "_uuid": "85c25f351caa1130395a776dd30a6880e5d30d45"
   },
   "source": [
    "<a id=\"there_you_go_2.2\"></a>\n",
    "## 2.2) Heavily Rated Movies"
   ]
  },
  {
   "cell_type": "code",
   "execution_count": 19,
   "metadata": {
    "_uuid": "c47ad156607971607898ae65749a381061f09b02",
    "execution": {
     "iopub.execute_input": "2022-05-17T10:38:15.288306Z",
     "iopub.status.busy": "2022-05-17T10:38:15.287983Z",
     "iopub.status.idle": "2022-05-17T10:38:15.357519Z",
     "shell.execute_reply": "2022-05-17T10:38:15.356661Z",
     "shell.execute_reply.started": "2022-05-17T10:38:15.288250Z"
    }
   },
   "outputs": [
    {
     "data": {
      "text/html": [
       "<div>\n",
       "<style scoped>\n",
       "    .dataframe tbody tr th:only-of-type {\n",
       "        vertical-align: middle;\n",
       "    }\n",
       "\n",
       "    .dataframe tbody tr th {\n",
       "        vertical-align: top;\n",
       "    }\n",
       "\n",
       "    .dataframe thead th {\n",
       "        text-align: right;\n",
       "    }\n",
       "</style>\n",
       "<table border=\"1\" class=\"dataframe\">\n",
       "  <thead>\n",
       "    <tr style=\"text-align: right;\">\n",
       "      <th></th>\n",
       "      <th>mean ratings</th>\n",
       "      <th>total ratings</th>\n",
       "    </tr>\n",
       "    <tr>\n",
       "      <th>title</th>\n",
       "      <th></th>\n",
       "      <th></th>\n",
       "    </tr>\n",
       "  </thead>\n",
       "  <tbody>\n",
       "    <tr>\n",
       "      <th>Forrest Gump (1994)</th>\n",
       "      <td>4.164134</td>\n",
       "      <td>329</td>\n",
       "    </tr>\n",
       "    <tr>\n",
       "      <th>Shawshank Redemption, The (1994)</th>\n",
       "      <td>4.429022</td>\n",
       "      <td>317</td>\n",
       "    </tr>\n",
       "    <tr>\n",
       "      <th>Pulp Fiction (1994)</th>\n",
       "      <td>4.197068</td>\n",
       "      <td>307</td>\n",
       "    </tr>\n",
       "    <tr>\n",
       "      <th>Silence of the Lambs, The (1991)</th>\n",
       "      <td>4.161290</td>\n",
       "      <td>279</td>\n",
       "    </tr>\n",
       "    <tr>\n",
       "      <th>Matrix, The (1999)</th>\n",
       "      <td>4.192446</td>\n",
       "      <td>278</td>\n",
       "    </tr>\n",
       "    <tr>\n",
       "      <th>Star Wars: Episode IV - A New Hope (1977)</th>\n",
       "      <td>4.231076</td>\n",
       "      <td>251</td>\n",
       "    </tr>\n",
       "    <tr>\n",
       "      <th>Jurassic Park (1993)</th>\n",
       "      <td>3.750000</td>\n",
       "      <td>238</td>\n",
       "    </tr>\n",
       "    <tr>\n",
       "      <th>Braveheart (1995)</th>\n",
       "      <td>4.031646</td>\n",
       "      <td>237</td>\n",
       "    </tr>\n",
       "    <tr>\n",
       "      <th>Terminator 2: Judgment Day (1991)</th>\n",
       "      <td>3.970982</td>\n",
       "      <td>224</td>\n",
       "    </tr>\n",
       "    <tr>\n",
       "      <th>Schindler's List (1993)</th>\n",
       "      <td>4.225000</td>\n",
       "      <td>220</td>\n",
       "    </tr>\n",
       "  </tbody>\n",
       "</table>\n",
       "</div>"
      ],
      "text/plain": [
       "                                           mean ratings  total ratings\n",
       "title                                                                 \n",
       "Forrest Gump (1994)                            4.164134            329\n",
       "Shawshank Redemption, The (1994)               4.429022            317\n",
       "Pulp Fiction (1994)                            4.197068            307\n",
       "Silence of the Lambs, The (1991)               4.161290            279\n",
       "Matrix, The (1999)                             4.192446            278\n",
       "Star Wars: Episode IV - A New Hope (1977)      4.231076            251\n",
       "Jurassic Park (1993)                           3.750000            238\n",
       "Braveheart (1995)                              4.031646            237\n",
       "Terminator 2: Judgment Day (1991)              3.970982            224\n",
       "Schindler's List (1993)                        4.225000            220"
      ]
     },
     "execution_count": 19,
     "metadata": {},
     "output_type": "execute_result"
    }
   ],
   "source": [
    "df_n_ratings = pd.DataFrame(df_combined.groupby('title')['rating'].mean())\n",
    "df_n_ratings['total ratings'] = pd.DataFrame(df_combined.groupby('title')['rating'].count())\n",
    "df_n_ratings.rename(columns = {'rating': 'mean ratings'}, inplace=True)\n",
    "\n",
    "df_n_ratings.sort_values('total ratings', ascending=False).head(10)"
   ]
  },
  {
   "cell_type": "markdown",
   "metadata": {
    "_uuid": "004505c4a7e7bc97ba9cf99bb84cda1697999706"
   },
   "source": [
    "Most of these movies stand among the Top 50 movies in the IMDB ratings even today."
   ]
  },
  {
   "cell_type": "code",
   "execution_count": 20,
   "metadata": {
    "_uuid": "1ef247ab14cae32999e18bebc9e77b1573cf25f6",
    "execution": {
     "iopub.execute_input": "2022-05-17T10:38:17.740385Z",
     "iopub.status.busy": "2022-05-17T10:38:17.740090Z",
     "iopub.status.idle": "2022-05-17T10:38:18.096008Z",
     "shell.execute_reply": "2022-05-17T10:38:18.095089Z",
     "shell.execute_reply.started": "2022-05-17T10:38:17.740334Z"
    }
   },
   "outputs": [
    {
     "data": {
      "image/png": "[encoded data removed]",
      "text/plain": [
       "<Figure size 1200x600 with 1 Axes>"
      ]
     },
     "metadata": {
      "needs_background": "light"
     },
     "output_type": "display_data"
    }
   ],
   "source": [
    "plt.figure(figsize=(8,4))\n",
    "sns.distplot(df_n_ratings['total ratings'], bins=20)\n",
    "plt.xlabel('Total Number of Ratings')\n",
    "plt.ylabel('Probability')\n",
    "plt.show()"
   ]
  },
  {
   "cell_type": "markdown",
   "metadata": {
    "_uuid": "8e4300398ad483f6eae5c794d39d857590edf137"
   },
   "source": [
    "We can see that - \n",
    "* Majority of the movies have less than 50 ratings.\n",
    "* The number of movies having more than 100 ratings is very low.\n",
    "\n",
    "Refer one cell above, we can see that there are only 3 movies with 300+ ratings."
   ]
  },
  {
   "cell_type": "markdown",
   "metadata": {
    "_uuid": "78d81e82705c100c4a940671a0c9b46b1709c473"
   },
   "source": [
    "<a id=\"there_you_go_2.3\"></a>\n",
    "## 2.3) Highly Rated Movies"
   ]
  },
  {
   "cell_type": "code",
   "execution_count": 21,
   "metadata": {
    "_uuid": "e85d5bb8cc0889b9359ce84833ca970ca3d6607e",
    "execution": {
     "iopub.execute_input": "2022-05-17T10:38:22.064406Z",
     "iopub.status.busy": "2022-05-17T10:38:22.063959Z",
     "iopub.status.idle": "2022-05-17T10:38:22.097743Z",
     "shell.execute_reply": "2022-05-17T10:38:22.095933Z",
     "shell.execute_reply.started": "2022-05-17T10:38:22.064335Z"
    }
   },
   "outputs": [
    {
     "data": {
      "text/html": [
       "<div>\n",
       "<style scoped>\n",
       "    .dataframe tbody tr th:only-of-type {\n",
       "        vertical-align: middle;\n",
       "    }\n",
       "\n",
       "    .dataframe tbody tr th {\n",
       "        vertical-align: top;\n",
       "    }\n",
       "\n",
       "    .dataframe thead th {\n",
       "        text-align: right;\n",
       "    }\n",
       "</style>\n",
       "<table border=\"1\" class=\"dataframe\">\n",
       "  <thead>\n",
       "    <tr style=\"text-align: right;\">\n",
       "      <th></th>\n",
       "      <th>mean ratings</th>\n",
       "      <th>total ratings</th>\n",
       "    </tr>\n",
       "    <tr>\n",
       "      <th>title</th>\n",
       "      <th></th>\n",
       "      <th></th>\n",
       "    </tr>\n",
       "  </thead>\n",
       "  <tbody>\n",
       "    <tr>\n",
       "      <th>Gena the Crocodile (1969)</th>\n",
       "      <td>5.0</td>\n",
       "      <td>1</td>\n",
       "    </tr>\n",
       "    <tr>\n",
       "      <th>True Stories (1986)</th>\n",
       "      <td>5.0</td>\n",
       "      <td>1</td>\n",
       "    </tr>\n",
       "    <tr>\n",
       "      <th>Cosmic Scrat-tastrophe (2015)</th>\n",
       "      <td>5.0</td>\n",
       "      <td>1</td>\n",
       "    </tr>\n",
       "    <tr>\n",
       "      <th>Love and Pigeons (1985)</th>\n",
       "      <td>5.0</td>\n",
       "      <td>1</td>\n",
       "    </tr>\n",
       "    <tr>\n",
       "      <th>Red Sorghum (Hong gao liang) (1987)</th>\n",
       "      <td>5.0</td>\n",
       "      <td>1</td>\n",
       "    </tr>\n",
       "    <tr>\n",
       "      <th>Thin Line Between Love and Hate, A (1996)</th>\n",
       "      <td>5.0</td>\n",
       "      <td>1</td>\n",
       "    </tr>\n",
       "    <tr>\n",
       "      <th>Lesson Faust (1994)</th>\n",
       "      <td>5.0</td>\n",
       "      <td>2</td>\n",
       "    </tr>\n",
       "    <tr>\n",
       "      <th>Eva (2011)</th>\n",
       "      <td>5.0</td>\n",
       "      <td>1</td>\n",
       "    </tr>\n",
       "    <tr>\n",
       "      <th>Who Killed Chea Vichea? (2010)</th>\n",
       "      <td>5.0</td>\n",
       "      <td>1</td>\n",
       "    </tr>\n",
       "    <tr>\n",
       "      <th>Siam Sunset (1999)</th>\n",
       "      <td>5.0</td>\n",
       "      <td>1</td>\n",
       "    </tr>\n",
       "  </tbody>\n",
       "</table>\n",
       "</div>"
      ],
      "text/plain": [
       "                                           mean ratings  total ratings\n",
       "title                                                                 \n",
       "Gena the Crocodile (1969)                           5.0              1\n",
       "True Stories (1986)                                 5.0              1\n",
       "Cosmic Scrat-tastrophe (2015)                       5.0              1\n",
       "Love and Pigeons (1985)                             5.0              1\n",
       "Red Sorghum (Hong gao liang) (1987)                 5.0              1\n",
       "Thin Line Between Love and Hate, A (1996)           5.0              1\n",
       "Lesson Faust (1994)                                 5.0              2\n",
       "Eva (2011)                                          5.0              1\n",
       "Who Killed Chea Vichea? (2010)                      5.0              1\n",
       "Siam Sunset (1999)                                  5.0              1"
      ]
     },
     "execution_count": 21,
     "metadata": {},
     "output_type": "execute_result"
    }
   ],
   "source": [
    "df_n_ratings.sort_values('mean ratings', ascending=False).head(10)"
   ]
  },
  {
   "cell_type": "code",
   "execution_count": 22,
   "metadata": {
    "_uuid": "710829904ef7b77eea10789c5babea7e5843e027",
    "execution": {
     "iopub.execute_input": "2022-05-17T10:38:22.565673Z",
     "iopub.status.busy": "2022-05-17T10:38:22.565362Z",
     "iopub.status.idle": "2022-05-17T10:38:22.577119Z",
     "shell.execute_reply": "2022-05-17T10:38:22.575914Z",
     "shell.execute_reply.started": "2022-05-17T10:38:22.565618Z"
    }
   },
   "outputs": [
    {
     "name": "stdout",
     "output_type": "stream",
     "text": [
      "Total no of users that gave rating of 5.0 :  296 \n",
      "\n",
      "Total no of Individual users that gave rating of 5.0 :  289\n"
     ]
    }
   ],
   "source": [
    "print('Total no of users that gave rating of 5.0 : ', len(df_n_ratings.loc[df_n_ratings['mean ratings'] == 5]), '\\n')\n",
    "print('Total no of Individual users that gave rating of 5.0 : ', len(df_n_ratings.loc[(df_n_ratings['mean ratings'] == 5) \n",
    "                                                                           & (df_n_ratings['total ratings'] == 1)]))"
   ]
  },
  {
   "cell_type": "markdown",
   "metadata": {
    "_uuid": "0b148aadede48005bb067748d7a227ff5d844f39"
   },
   "source": [
    "1. As you can see there are over 296 users that have rated 5 stars, among which there are 289 individual raters ( only user to rate the movie 5 star ).\n",
    "\n",
    "2. So, this cannot be the lone factor that should be considered while recommending movies. As this factor only shows the preferences of a particular user.\n",
    "\n",
    "3. It would make a good recommendation system if we can use both the factors ( -> Highly Rated Movies and Heavily Rated Movies <- ) together."
   ]
  },
  {
   "cell_type": "code",
   "execution_count": 23,
   "metadata": {
    "_uuid": "85594914dfca2b6d1130cacb55e57d12a9f011c9",
    "execution": {
     "iopub.execute_input": "2022-05-17T10:38:25.259613Z",
     "iopub.status.busy": "2022-05-17T10:38:25.259155Z",
     "iopub.status.idle": "2022-05-17T10:38:25.638697Z",
     "shell.execute_reply": "2022-05-17T10:38:25.637968Z",
     "shell.execute_reply.started": "2022-05-17T10:38:25.259512Z"
    }
   },
   "outputs": [
    {
     "data": {
      "image/png": "[encoded data removed]",
      "text/plain": [
       "<Figure size 1200x600 with 1 Axes>"
      ]
     },
     "metadata": {
      "needs_background": "light"
     },
     "output_type": "display_data"
    }
   ],
   "source": [
    "plt.figure(figsize=(8,4))\n",
    "sns.distplot(df_n_ratings['mean ratings'], bins=30)\n",
    "plt.xlabel('Mean Ratings')\n",
    "plt.ylabel('Probability')\n",
    "plt.show()"
   ]
  },
  {
   "cell_type": "markdown",
   "metadata": {
    "_uuid": "3658e4d3d80fd064f48589f529cd4594c9b87721"
   },
   "source": [
    "<a id=\"there_you_go_2.4\"></a>\n",
    "## 2.4) Mean Ratings vs Total Number of Ratings"
   ]
  },
  {
   "cell_type": "code",
   "execution_count": 24,
   "metadata": {
    "_uuid": "af127ded1183c61079fa2395d181996e48904015",
    "execution": {
     "iopub.execute_input": "2022-05-17T10:38:27.915854Z",
     "iopub.status.busy": "2022-05-17T10:38:27.915476Z",
     "iopub.status.idle": "2022-05-17T10:38:29.542623Z",
     "shell.execute_reply": "2022-05-17T10:38:29.541638Z",
     "shell.execute_reply.started": "2022-05-17T10:38:27.915780Z"
    }
   },
   "outputs": [
    {
     "data": {
      "text/plain": [
       "<seaborn.axisgrid.JointGrid at 0x7f72f4411080>"
      ]
     },
     "execution_count": 24,
     "metadata": {},
     "output_type": "execute_result"
    },
    {
     "data": {
      "image/png": "[encoded data removed]",
      "text/plain": [
       "<Figure size 900x900 with 3 Axes>"
      ]
     },
     "metadata": {
      "needs_background": "light"
     },
     "output_type": "display_data"
    }
   ],
   "source": [
    "sns.jointplot(x = 'mean ratings', y = 'total ratings', data = df_n_ratings )"
   ]
  },
  {
   "cell_type": "markdown",
   "metadata": {
    "_uuid": "f4bb3964e26346357c1a1da3b5bea316491f5379"
   },
   "source": [
    "* Here, as you can see every Data Point represents a distinct Movie, with y-coordinate representing the total no of users which has rated that movie and x-coordinate representing the mean of all the ratings of the corresponding users.\n",
    "* Also you can see that there is a huge Density in the region corresponding to 0-50 no of users and between mean rating 3-4 ."
   ]
  },
  {
   "cell_type": "markdown",
   "metadata": {
    "_uuid": "8e9adee013ed2c8e089ebc17bcb30d8a2fd45efc"
   },
   "source": [
    "Many more Visualizations can be drawn and many different conclusions can be inferred, But here, I'm going to focus on Collaborative Filtering.\n",
    "\n",
    "So, let's proceed to what is Collaborative Filtering and how it is used in Recommendation Systems?"
   ]
  },
  {
   "cell_type": "markdown",
   "metadata": {
    "_uuid": "ce42dd608233fb22615f05c702fc9eb20f3ce4ed"
   },
   "source": [
    "<a id=\"there_you_go_4\"></a>\n",
    "# 4) Matrix Factorization using Deep Learning (Keras)"
   ]
  },
  {
   "cell_type": "code",
   "execution_count": 25,
   "metadata": {
    "_uuid": "8368a5686303cd2079f4abc987dfbc972aab477a",
    "execution": {
     "iopub.execute_input": "2022-05-17T10:38:32.617336Z",
     "iopub.status.busy": "2022-05-17T10:38:32.616998Z",
     "iopub.status.idle": "2022-05-17T10:38:32.622428Z",
     "shell.execute_reply": "2022-05-17T10:38:32.621432Z",
     "shell.execute_reply.started": "2022-05-17T10:38:32.617284Z"
    }
   },
   "outputs": [],
   "source": [
    "from keras.layers import Embedding, Input, dot, concatenate\n",
    "from keras.models import Model\n",
    "from IPython.display import SVG\n",
    "from keras.utils.vis_utils import model_to_dot"
   ]
  },
  {
   "cell_type": "markdown",
   "metadata": {
    "_uuid": "fb98e82422fe3453d62918952cba0c30cbbaff4e"
   },
   "source": [
    "<a id=\"there_you_go_4.1\"></a>\n",
    "## 4.1)Splitting Data into Train and Validation Set"
   ]
  },
  {
   "cell_type": "code",
   "execution_count": 26,
   "metadata": {
    "_uuid": "6ddeb883e5fe1879c6c08b98bdd0967d556d0b6f",
    "execution": {
     "iopub.execute_input": "2022-05-17T10:38:35.943136Z",
     "iopub.status.busy": "2022-05-17T10:38:35.942820Z",
     "iopub.status.idle": "2022-05-17T10:38:35.960815Z",
     "shell.execute_reply": "2022-05-17T10:38:35.960082Z",
     "shell.execute_reply.started": "2022-05-17T10:38:35.943081Z"
    }
   },
   "outputs": [],
   "source": [
    "X = ratings.iloc[:,:2]\n",
    "Y = ratings.iloc[:,2]\n",
    "\n",
    "x_train, x_test, y_train, y_test = train_test_split(X, Y, test_size = 0.2, random_state = 66)"
   ]
  },
  {
   "cell_type": "markdown",
   "metadata": {
    "_uuid": "7f128e596382ff4165b63523d01275af6d708dff"
   },
   "source": [
    "<a id=\"there_you_go_4.2\"></a>\n",
    "## 4.2) Building the Model using Embedding Layers\n",
    "\n",
    "An embedding is a mapping from discrete objects, such as words or movies in our case, to a vector of continuous values. These are used to find similarities between discrete objects. \n",
    "\n",
    "The concept behind matrix factorization models is that the preferences of a user can be determined by a small number of hidden factors. And these are called as **Embeddings**.\n",
    "\n",
    "![Imgur](https://i.imgur.com/zGQJFLD.png)\n",
    "\n",
    "As you can see in the image, there are 2 features both for user and the items. These are the latent factors or the hidden factors. These factors have a value for the corresponding user and determines to what extend that user likes the feature.\n",
    "\n",
    "For Eg. the features for the user could be ->\n",
    "* How much he likes action movies?\n",
    "* Whether he likes old movies?\n",
    "\n",
    "And the features for the movies could be ->\n",
    "* To what scale is it an action movie?\n",
    "* Whether the movie is recently released?\n",
    "\n",
    "And finally we take **dot product** which gives us the user's rating for the movie, \n",
    "\n",
    "**Estimated Rating** = [ (How much he likes action movies?) x (To what scale is it an action movie) ]  +  [ (Whether he likes old movies?) x (Whether the movie is recently released) ]"
   ]
  },
  {
   "cell_type": "code",
   "execution_count": 27,
   "metadata": {
    "_uuid": "79c2c73e0e8ac1e0dd35c48acedfe4840329e759",
    "execution": {
     "iopub.execute_input": "2022-05-17T10:38:38.273718Z",
     "iopub.status.busy": "2022-05-17T10:38:38.273398Z",
     "iopub.status.idle": "2022-05-17T10:38:38.282015Z",
     "shell.execute_reply": "2022-05-17T10:38:38.281106Z",
     "shell.execute_reply.started": "2022-05-17T10:38:38.273665Z"
    }
   },
   "outputs": [],
   "source": [
    "# The number of latent factors for the embedding\n",
    "n_latent_factors = 50\n",
    "\n",
    "# no of users and movies\n",
    "n_users, n_movies = len(ratings['userId'].unique()), len(ratings['movieId'].unique()) "
   ]
  },
  {
   "cell_type": "markdown",
   "metadata": {
    "_uuid": "247040fe84e0161a6002b11213a799acbcf48567"
   },
   "source": [
    "<a id=\"there_you_go_4.3\"></a>\n",
    "## 4.3) Architecture 1"
   ]
  },
  {
   "cell_type": "code",
   "execution_count": 28,
   "metadata": {
    "_uuid": "207734899b02951feb88e6f7add7393414fe8c7a",
    "execution": {
     "iopub.execute_input": "2022-05-17T10:38:42.154006Z",
     "iopub.status.busy": "2022-05-17T10:38:42.153521Z",
     "iopub.status.idle": "2022-05-17T10:38:42.227293Z",
     "shell.execute_reply": "2022-05-17T10:38:42.226619Z",
     "shell.execute_reply.started": "2022-05-17T10:38:42.153770Z"
    }
   },
   "outputs": [],
   "source": [
    "# Model Architecture\n",
    "\n",
    "\n",
    "# User Embeddings\n",
    "user_input = Input(shape=(1,), name='User_Input')\n",
    "user_embeddings = Embedding(input_dim = n_users, output_dim=n_latent_factors, input_length=1, \n",
    "                              name='User_Embedding') (user_input)\n",
    "user_vector = Flatten(name='User_Vector') (user_embeddings)\n",
    "\n",
    "\n",
    "# Movie Embeddings\n",
    "movie_input = Input(shape=(1,), name='Movie_Input')\n",
    "movie_embeddings = Embedding(input_dim = n_movies, output_dim=n_latent_factors, input_length=1, \n",
    "                               name='Movie_Embedding') (movie_input)\n",
    "movie_vector = Flatten(name='Movie_Vector') (movie_embeddings)\n",
    "\n",
    "\n",
    "# Dot Product\n",
    "merged_vectors = dot([user_vector, movie_vector], name='Dot_Product', axes=1)\n",
    "model = Model([user_input, movie_input], merged_vectors)"
   ]
  },
  {
   "cell_type": "markdown",
   "metadata": {
    "_uuid": "5f12876e26b764b1f8abe1256a290df21af2bc28"
   },
   "source": [
    "<a id=\"there_you_go_4.4\"></a>\n",
    "## 4.4) Visualizing the Model Architecture"
   ]
  },
  {
   "cell_type": "code",
   "execution_count": 29,
   "metadata": {
    "_uuid": "2fddfaba193fdf928910665fbc1b406f6c466310",
    "execution": {
     "iopub.execute_input": "2022-05-17T10:38:46.235111Z",
     "iopub.status.busy": "2022-05-17T10:38:46.234776Z",
     "iopub.status.idle": "2022-05-17T10:38:47.700674Z",
     "shell.execute_reply": "2022-05-17T10:38:47.699826Z",
     "shell.execute_reply.started": "2022-05-17T10:38:46.235061Z"
    }
   },
   "outputs": [
    {
     "data": {
      "image/svg+xml": [
       "<svg height=\"304pt\" viewBox=\"0.00 0.00 690.50 304.00\" width=\"691pt\" xmlns=\"http://www.w3.org/2000/svg\" xmlns:xlink=\"http://www.w3.org/1999/xlink\">\n",
       "<g class=\"graph\" id=\"graph0\" transform=\"scale(1 1) rotate(0) translate(4 300)\">\n",
       "<title>G</title>\n",
       "<polygon fill=\"white\" points=\"-4,4 -4,-300 686.5,-300 686.5,4 -4,4\" stroke=\"none\"/>\n",
       "<!-- 140131633354792 -->\n",
       "<g class=\"node\" id=\"node1\"><title>140131633354792</title>\n",
       "<polygon fill=\"none\" points=\"29,-249.5 29,-295.5 298,-295.5 298,-249.5 29,-249.5\" stroke=\"black\"/>\n",
       "<text font-family=\"Times,serif\" font-size=\"14.00\" text-anchor=\"middle\" x=\"101.5\" y=\"-268.8\">User_Input: InputLayer</text>\n",
       "<polyline fill=\"none\" points=\"174,-249.5 174,-295.5 \" stroke=\"black\"/>\n",
       "<text font-family=\"Times,serif\" font-size=\"14.00\" text-anchor=\"middle\" x=\"201.5\" y=\"-280.3\">input:</text>\n",
       "<polyline fill=\"none\" points=\"174,-272.5 229,-272.5 \" stroke=\"black\"/>\n",
       "<text font-family=\"Times,serif\" font-size=\"14.00\" text-anchor=\"middle\" x=\"201.5\" y=\"-257.3\">output:</text>\n",
       "<polyline fill=\"none\" points=\"229,-249.5 229,-295.5 \" stroke=\"black\"/>\n",
       "<text font-family=\"Times,serif\" font-size=\"14.00\" text-anchor=\"middle\" x=\"263.5\" y=\"-280.3\">(None, 1)</text>\n",
       "<polyline fill=\"none\" points=\"229,-272.5 298,-272.5 \" stroke=\"black\"/>\n",
       "<text font-family=\"Times,serif\" font-size=\"14.00\" text-anchor=\"middle\" x=\"263.5\" y=\"-257.3\">(None, 1)</text>\n",
       "</g>\n",
       "<!-- 140131633353448 -->\n",
       "<g class=\"node\" id=\"node3\"><title>140131633353448</title>\n",
       "<polygon fill=\"none\" points=\"-2.84217e-14,-166.5 -2.84217e-14,-212.5 327,-212.5 327,-166.5 -2.84217e-14,-166.5\" stroke=\"black\"/>\n",
       "<text font-family=\"Times,serif\" font-size=\"14.00\" text-anchor=\"middle\" x=\"91\" y=\"-185.8\">User_Embedding: Embedding</text>\n",
       "<polyline fill=\"none\" points=\"182,-166.5 182,-212.5 \" stroke=\"black\"/>\n",
       "<text font-family=\"Times,serif\" font-size=\"14.00\" text-anchor=\"middle\" x=\"209.5\" y=\"-197.3\">input:</text>\n",
       "<polyline fill=\"none\" points=\"182,-189.5 237,-189.5 \" stroke=\"black\"/>\n",
       "<text font-family=\"Times,serif\" font-size=\"14.00\" text-anchor=\"middle\" x=\"209.5\" y=\"-174.3\">output:</text>\n",
       "<polyline fill=\"none\" points=\"237,-166.5 237,-212.5 \" stroke=\"black\"/>\n",
       "<text font-family=\"Times,serif\" font-size=\"14.00\" text-anchor=\"middle\" x=\"282\" y=\"-197.3\">(None, 1)</text>\n",
       "<polyline fill=\"none\" points=\"237,-189.5 327,-189.5 \" stroke=\"black\"/>\n",
       "<text font-family=\"Times,serif\" font-size=\"14.00\" text-anchor=\"middle\" x=\"282\" y=\"-174.3\">(None, 1, 50)</text>\n",
       "</g>\n",
       "<!-- 140131633354792&#45;&gt;140131633353448 -->\n",
       "<g class=\"edge\" id=\"edge1\"><title>140131633354792-&gt;140131633353448</title>\n",
       "<path d=\"M163.5,-249.366C163.5,-241.152 163.5,-231.658 163.5,-222.725\" fill=\"none\" stroke=\"black\"/>\n",
       "<polygon fill=\"black\" points=\"167,-222.607 163.5,-212.607 160,-222.607 167,-222.607\" stroke=\"black\"/>\n",
       "</g>\n",
       "<!-- 140131694467448 -->\n",
       "<g class=\"node\" id=\"node2\"><title>140131694467448</title>\n",
       "<polygon fill=\"none\" points=\"374,-249.5 374,-295.5 653,-295.5 653,-249.5 374,-249.5\" stroke=\"black\"/>\n",
       "<text font-family=\"Times,serif\" font-size=\"14.00\" text-anchor=\"middle\" x=\"451.5\" y=\"-268.8\">Movie_Input: InputLayer</text>\n",
       "<polyline fill=\"none\" points=\"529,-249.5 529,-295.5 \" stroke=\"black\"/>\n",
       "<text font-family=\"Times,serif\" font-size=\"14.00\" text-anchor=\"middle\" x=\"556.5\" y=\"-280.3\">input:</text>\n",
       "<polyline fill=\"none\" points=\"529,-272.5 584,-272.5 \" stroke=\"black\"/>\n",
       "<text font-family=\"Times,serif\" font-size=\"14.00\" text-anchor=\"middle\" x=\"556.5\" y=\"-257.3\">output:</text>\n",
       "<polyline fill=\"none\" points=\"584,-249.5 584,-295.5 \" stroke=\"black\"/>\n",
       "<text font-family=\"Times,serif\" font-size=\"14.00\" text-anchor=\"middle\" x=\"618.5\" y=\"-280.3\">(None, 1)</text>\n",
       "<polyline fill=\"none\" points=\"584,-272.5 653,-272.5 \" stroke=\"black\"/>\n",
       "<text font-family=\"Times,serif\" font-size=\"14.00\" text-anchor=\"middle\" x=\"618.5\" y=\"-257.3\">(None, 1)</text>\n",
       "</g>\n",
       "<!-- 140131694561096 -->\n",
       "<g class=\"node\" id=\"node4\"><title>140131694561096</title>\n",
       "<polygon fill=\"none\" points=\"344.5,-166.5 344.5,-212.5 682.5,-212.5 682.5,-166.5 344.5,-166.5\" stroke=\"black\"/>\n",
       "<text font-family=\"Times,serif\" font-size=\"14.00\" text-anchor=\"middle\" x=\"441\" y=\"-185.8\">Movie_Embedding: Embedding</text>\n",
       "<polyline fill=\"none\" points=\"537.5,-166.5 537.5,-212.5 \" stroke=\"black\"/>\n",
       "<text font-family=\"Times,serif\" font-size=\"14.00\" text-anchor=\"middle\" x=\"565\" y=\"-197.3\">input:</text>\n",
       "<polyline fill=\"none\" points=\"537.5,-189.5 592.5,-189.5 \" stroke=\"black\"/>\n",
       "<text font-family=\"Times,serif\" font-size=\"14.00\" text-anchor=\"middle\" x=\"565\" y=\"-174.3\">output:</text>\n",
       "<polyline fill=\"none\" points=\"592.5,-166.5 592.5,-212.5 \" stroke=\"black\"/>\n",
       "<text font-family=\"Times,serif\" font-size=\"14.00\" text-anchor=\"middle\" x=\"637.5\" y=\"-197.3\">(None, 1)</text>\n",
       "<polyline fill=\"none\" points=\"592.5,-189.5 682.5,-189.5 \" stroke=\"black\"/>\n",
       "<text font-family=\"Times,serif\" font-size=\"14.00\" text-anchor=\"middle\" x=\"637.5\" y=\"-174.3\">(None, 1, 50)</text>\n",
       "</g>\n",
       "<!-- 140131694467448&#45;&gt;140131694561096 -->\n",
       "<g class=\"edge\" id=\"edge2\"><title>140131694467448-&gt;140131694561096</title>\n",
       "<path d=\"M513.5,-249.366C513.5,-241.152 513.5,-231.658 513.5,-222.725\" fill=\"none\" stroke=\"black\"/>\n",
       "<polygon fill=\"black\" points=\"517,-222.607 513.5,-212.607 510,-222.607 517,-222.607\" stroke=\"black\"/>\n",
       "</g>\n",
       "<!-- 140131633353896 -->\n",
       "<g class=\"node\" id=\"node5\"><title>140131633353896</title>\n",
       "<polygon fill=\"none\" points=\"50.5,-83.5 50.5,-129.5 326.5,-129.5 326.5,-83.5 50.5,-83.5\" stroke=\"black\"/>\n",
       "<text font-family=\"Times,serif\" font-size=\"14.00\" text-anchor=\"middle\" x=\"116\" y=\"-102.8\">User_Vector: Flatten</text>\n",
       "<polyline fill=\"none\" points=\"181.5,-83.5 181.5,-129.5 \" stroke=\"black\"/>\n",
       "<text font-family=\"Times,serif\" font-size=\"14.00\" text-anchor=\"middle\" x=\"209\" y=\"-114.3\">input:</text>\n",
       "<polyline fill=\"none\" points=\"181.5,-106.5 236.5,-106.5 \" stroke=\"black\"/>\n",
       "<text font-family=\"Times,serif\" font-size=\"14.00\" text-anchor=\"middle\" x=\"209\" y=\"-91.3\">output:</text>\n",
       "<polyline fill=\"none\" points=\"236.5,-83.5 236.5,-129.5 \" stroke=\"black\"/>\n",
       "<text font-family=\"Times,serif\" font-size=\"14.00\" text-anchor=\"middle\" x=\"281.5\" y=\"-114.3\">(None, 1, 50)</text>\n",
       "<polyline fill=\"none\" points=\"236.5,-106.5 326.5,-106.5 \" stroke=\"black\"/>\n",
       "<text font-family=\"Times,serif\" font-size=\"14.00\" text-anchor=\"middle\" x=\"281.5\" y=\"-91.3\">(None, 50)</text>\n",
       "</g>\n",
       "<!-- 140131633353448&#45;&gt;140131633353896 -->\n",
       "<g class=\"edge\" id=\"edge3\"><title>140131633353448-&gt;140131633353896</title>\n",
       "<path d=\"M170.331,-166.366C172.894,-158.062 175.861,-148.451 178.644,-139.434\" fill=\"none\" stroke=\"black\"/>\n",
       "<polygon fill=\"black\" points=\"182.072,-140.194 181.677,-129.607 175.383,-138.13 182.072,-140.194\" stroke=\"black\"/>\n",
       "</g>\n",
       "<!-- 140131633353672 -->\n",
       "<g class=\"node\" id=\"node6\"><title>140131633353672</title>\n",
       "<polygon fill=\"none\" points=\"357.5,-83.5 357.5,-129.5 643.5,-129.5 643.5,-83.5 357.5,-83.5\" stroke=\"black\"/>\n",
       "<text font-family=\"Times,serif\" font-size=\"14.00\" text-anchor=\"middle\" x=\"428\" y=\"-102.8\">Movie_Vector: Flatten</text>\n",
       "<polyline fill=\"none\" points=\"498.5,-83.5 498.5,-129.5 \" stroke=\"black\"/>\n",
       "<text font-family=\"Times,serif\" font-size=\"14.00\" text-anchor=\"middle\" x=\"526\" y=\"-114.3\">input:</text>\n",
       "<polyline fill=\"none\" points=\"498.5,-106.5 553.5,-106.5 \" stroke=\"black\"/>\n",
       "<text font-family=\"Times,serif\" font-size=\"14.00\" text-anchor=\"middle\" x=\"526\" y=\"-91.3\">output:</text>\n",
       "<polyline fill=\"none\" points=\"553.5,-83.5 553.5,-129.5 \" stroke=\"black\"/>\n",
       "<text font-family=\"Times,serif\" font-size=\"14.00\" text-anchor=\"middle\" x=\"598.5\" y=\"-114.3\">(None, 1, 50)</text>\n",
       "<polyline fill=\"none\" points=\"553.5,-106.5 643.5,-106.5 \" stroke=\"black\"/>\n",
       "<text font-family=\"Times,serif\" font-size=\"14.00\" text-anchor=\"middle\" x=\"598.5\" y=\"-91.3\">(None, 50)</text>\n",
       "</g>\n",
       "<!-- 140131694561096&#45;&gt;140131633353672 -->\n",
       "<g class=\"edge\" id=\"edge4\"><title>140131694561096-&gt;140131633353672</title>\n",
       "<path d=\"M509.948,-166.366C508.629,-158.152 507.106,-148.658 505.672,-139.725\" fill=\"none\" stroke=\"black\"/>\n",
       "<polygon fill=\"black\" points=\"509.089,-138.926 504.048,-129.607 502.177,-140.035 509.089,-138.926\" stroke=\"black\"/>\n",
       "</g>\n",
       "<!-- 140131693134176 -->\n",
       "<g class=\"node\" id=\"node7\"><title>140131693134176</title>\n",
       "<polygon fill=\"none\" points=\"184.5,-0.5 184.5,-46.5 504.5,-46.5 504.5,-0.5 184.5,-0.5\" stroke=\"black\"/>\n",
       "<text font-family=\"Times,serif\" font-size=\"14.00\" text-anchor=\"middle\" x=\"241\" y=\"-19.8\">Dot_Product: Dot</text>\n",
       "<polyline fill=\"none\" points=\"297.5,-0.5 297.5,-46.5 \" stroke=\"black\"/>\n",
       "<text font-family=\"Times,serif\" font-size=\"14.00\" text-anchor=\"middle\" x=\"325\" y=\"-31.3\">input:</text>\n",
       "<polyline fill=\"none\" points=\"297.5,-23.5 352.5,-23.5 \" stroke=\"black\"/>\n",
       "<text font-family=\"Times,serif\" font-size=\"14.00\" text-anchor=\"middle\" x=\"325\" y=\"-8.3\">output:</text>\n",
       "<polyline fill=\"none\" points=\"352.5,-0.5 352.5,-46.5 \" stroke=\"black\"/>\n",
       "<text font-family=\"Times,serif\" font-size=\"14.00\" text-anchor=\"middle\" x=\"428.5\" y=\"-31.3\">[(None, 50), (None, 50)]</text>\n",
       "<polyline fill=\"none\" points=\"352.5,-23.5 504.5,-23.5 \" stroke=\"black\"/>\n",
       "<text font-family=\"Times,serif\" font-size=\"14.00\" text-anchor=\"middle\" x=\"428.5\" y=\"-8.3\">(None, 1)</text>\n",
       "</g>\n",
       "<!-- 140131633353896&#45;&gt;140131693134176 -->\n",
       "<g class=\"edge\" id=\"edge5\"><title>140131633353896-&gt;140131693134176</title>\n",
       "<path d=\"M231.128,-83.3664C250.216,-73.4551 272.89,-61.682 292.926,-51.2787\" fill=\"none\" stroke=\"black\"/>\n",
       "<polygon fill=\"black\" points=\"294.662,-54.3213 301.924,-46.6068 291.436,-48.1088 294.662,-54.3213\" stroke=\"black\"/>\n",
       "</g>\n",
       "<!-- 140131633353672&#45;&gt;140131693134176 -->\n",
       "<g class=\"edge\" id=\"edge6\"><title>140131633353672-&gt;140131693134176</title>\n",
       "<path d=\"M457.872,-83.3664C438.784,-73.4551 416.11,-61.682 396.074,-51.2787\" fill=\"none\" stroke=\"black\"/>\n",
       "<polygon fill=\"black\" points=\"397.564,-48.1088 387.076,-46.6068 394.338,-54.3213 397.564,-48.1088\" stroke=\"black\"/>\n",
       "</g>\n",
       "</g>\n",
       "</svg>"
      ],
      "text/plain": [
       "<IPython.core.display.SVG object>"
      ]
     },
     "execution_count": 29,
     "metadata": {},
     "output_type": "execute_result"
    }
   ],
   "source": [
    "SVG(model_to_dot( model,  show_shapes=True, show_layer_names=True).create(prog='dot', format='svg'))"
   ]
  },
  {
   "cell_type": "code",
   "execution_count": 30,
   "metadata": {
    "_uuid": "d8a7cc21d7625d6d4b6c4563f3eef637ad88e0d6",
    "execution": {
     "iopub.execute_input": "2022-05-17T10:38:50.057807Z",
     "iopub.status.busy": "2022-05-17T10:38:50.057471Z",
     "iopub.status.idle": "2022-05-17T10:38:50.069961Z",
     "shell.execute_reply": "2022-05-17T10:38:50.069236Z",
     "shell.execute_reply.started": "2022-05-17T10:38:50.057737Z"
    }
   },
   "outputs": [
    {
     "name": "stdout",
     "output_type": "stream",
     "text": [
      "__________________________________________________________________________________________________\n",
      "Layer (type)                    Output Shape         Param #     Connected to                     \n",
      "==================================================================================================\n",
      "User_Input (InputLayer)         (None, 1)            0                                            \n",
      "__________________________________________________________________________________________________\n",
      "Movie_Input (InputLayer)        (None, 1)            0                                            \n",
      "__________________________________________________________________________________________________\n",
      "User_Embedding (Embedding)      (None, 1, 50)        30500       User_Input[0][0]                 \n",
      "__________________________________________________________________________________________________\n",
      "Movie_Embedding (Embedding)     (None, 1, 50)        486200      Movie_Input[0][0]                \n",
      "__________________________________________________________________________________________________\n",
      "User_Vector (Flatten)           (None, 50)           0           User_Embedding[0][0]             \n",
      "__________________________________________________________________________________________________\n",
      "Movie_Vector (Flatten)          (None, 50)           0           Movie_Embedding[0][0]            \n",
      "__________________________________________________________________________________________________\n",
      "Dot_Product (Dot)               (None, 1)            0           User_Vector[0][0]                \n",
      "                                                                 Movie_Vector[0][0]               \n",
      "==================================================================================================\n",
      "Total params: 516,700\n",
      "Trainable params: 516,700\n",
      "Non-trainable params: 0\n",
      "__________________________________________________________________________________________________\n"
     ]
    }
   ],
   "source": [
    "model.summary()"
   ]
  },
  {
   "cell_type": "markdown",
   "metadata": {
    "_uuid": "89d4a53b62018704b524b2653de6650b87bad224"
   },
   "source": [
    "\n",
    "<a id=\"there_you_go_4.5\"></a>\n",
    "## 4.5) Compiling the Model"
   ]
  },
  {
   "cell_type": "code",
   "execution_count": 31,
   "metadata": {
    "_uuid": "b499d9b0492c7c59e0696c816c0f35e6c7fd9665",
    "execution": {
     "iopub.execute_input": "2022-05-17T10:38:57.883970Z",
     "iopub.status.busy": "2022-05-17T10:38:57.883636Z",
     "iopub.status.idle": "2022-05-17T10:38:57.921896Z",
     "shell.execute_reply": "2022-05-17T10:38:57.921232Z",
     "shell.execute_reply.started": "2022-05-17T10:38:57.883912Z"
    }
   },
   "outputs": [],
   "source": [
    "import keras.backend as K\n",
    "\n",
    "optimizer = Adam(lr = 0.0005)\n",
    "\n",
    "model.compile(loss='mean_squared_error', optimizer = optimizer, metrics = ['accuracy'])"
   ]
  },
  {
   "cell_type": "markdown",
   "metadata": {
    "_uuid": "78572c2c1b376327d3e8cdc38df16b5339c94392"
   },
   "source": [
    "<a id=\"there_you_go_4.6\"></a>\n",
    "## 4.6) Fitting the Model"
   ]
  },
  {
   "cell_type": "code",
   "execution_count": 32,
   "metadata": {
    "_uuid": "5263657ef6f47f98c63cb8a89ffe38740c7db561",
    "execution": {
     "iopub.execute_input": "2022-05-17T10:39:00.495002Z",
     "iopub.status.busy": "2022-05-17T10:39:00.493811Z",
     "iopub.status.idle": "2022-05-17T10:39:00.502684Z",
     "shell.execute_reply": "2022-05-17T10:39:00.501966Z",
     "shell.execute_reply.started": "2022-05-17T10:39:00.494938Z"
    }
   },
   "outputs": [],
   "source": [
    "batch_size = 128\n",
    "epochs = 20"
   ]
  },
  {
   "cell_type": "code",
   "execution_count": 33,
   "metadata": {
    "_uuid": "7b974f90f2c029a094f0fe207c30fbdd07835a19",
    "execution": {
     "iopub.execute_input": "2022-05-17T10:39:03.722113Z",
     "iopub.status.busy": "2022-05-17T10:39:03.721765Z",
     "iopub.status.idle": "2022-05-17T10:39:44.236545Z",
     "shell.execute_reply": "2022-05-17T10:39:44.235862Z",
     "shell.execute_reply.started": "2022-05-17T10:39:03.722056Z"
    }
   },
   "outputs": [
    {
     "name": "stdout",
     "output_type": "stream",
     "text": [
      "Train on 80668 samples, validate on 20168 samples\n",
      "Epoch 1/20\n",
      " - 6s - loss: 13.3356 - acc: 0.0000e+00 - val_loss: 12.9812 - val_acc: 0.0000e+00\n",
      "Epoch 2/20\n",
      " - 3s - loss: 11.0575 - acc: 0.0080 - val_loss: 8.0642 - val_acc: 0.0314\n",
      "Epoch 3/20\n",
      " - 2s - loss: 6.2983 - acc: 0.0826 - val_loss: 5.2491 - val_acc: 0.1221\n",
      "Epoch 4/20\n",
      " - 2s - loss: 4.7860 - acc: 0.1524 - val_loss: 4.5375 - val_acc: 0.1723\n",
      "Epoch 5/20\n",
      " - 2s - loss: 4.2771 - acc: 0.1938 - val_loss: 4.2153 - val_acc: 0.2019\n",
      "Epoch 6/20\n",
      " - 3s - loss: 4.0258 - acc: 0.2206 - val_loss: 4.0425 - val_acc: 0.2203\n",
      "Epoch 7/20\n",
      " - 2s - loss: 3.8829 - acc: 0.2364 - val_loss: 3.9427 - val_acc: 0.2309\n",
      "Epoch 8/20\n",
      " - 2s - loss: 3.7942 - acc: 0.2473 - val_loss: 3.8821 - val_acc: 0.2397\n",
      "Epoch 9/20\n",
      " - 2s - loss: 3.7352 - acc: 0.2558 - val_loss: 3.8423 - val_acc: 0.2452\n",
      "Epoch 10/20\n",
      " - 3s - loss: 3.6939 - acc: 0.2617 - val_loss: 3.8170 - val_acc: 0.2470\n",
      "Epoch 11/20\n",
      " - 2s - loss: 3.6625 - acc: 0.2656 - val_loss: 3.7981 - val_acc: 0.2509\n",
      "Epoch 12/20\n",
      " - 2s - loss: 3.6375 - acc: 0.2709 - val_loss: 3.7846 - val_acc: 0.2503\n",
      "Epoch 13/20\n",
      " - 2s - loss: 3.6163 - acc: 0.2765 - val_loss: 3.7770 - val_acc: 0.2527\n",
      "Epoch 14/20\n",
      " - 2s - loss: 3.5982 - acc: 0.2810 - val_loss: 3.7711 - val_acc: 0.2520\n",
      "Epoch 15/20\n",
      " - 3s - loss: 3.5812 - acc: 0.2856 - val_loss: 3.7659 - val_acc: 0.2538\n",
      "Epoch 16/20\n",
      " - 2s - loss: 3.5653 - acc: 0.2922 - val_loss: 3.7629 - val_acc: 0.2540\n",
      "Epoch 17/20\n",
      " - 2s - loss: 3.5503 - acc: 0.2965 - val_loss: 3.7613 - val_acc: 0.2548\n",
      "Epoch 18/20\n",
      " - 2s - loss: 3.5352 - acc: 0.3023 - val_loss: 3.7603 - val_acc: 0.2536\n",
      "Epoch 19/20\n",
      " - 2s - loss: 3.5209 - acc: 0.3086 - val_loss: 3.7598 - val_acc: 0.2547\n",
      "Epoch 20/20\n",
      " - 3s - loss: 3.5060 - acc: 0.3130 - val_loss: 3.7597 - val_acc: 0.2541\n"
     ]
    }
   ],
   "source": [
    "history = model.fit(x=[x_train['userId'], x_train['movieId']], y=y_train, batch_size= batch_size, epochs=epochs, \n",
    "                    verbose= 2, validation_data=([x_test['userId'], x_test['movieId']], y_test))"
   ]
  },
  {
   "cell_type": "markdown",
   "metadata": {
    "_uuid": "f16afd148fdf381bd40f21fc8580b58f28ad1f22"
   },
   "source": [
    "<a id=\"there_you_go_4.7\"></a>\n",
    "## 4.7) Plotting Validation Curves"
   ]
  },
  {
   "cell_type": "code",
   "execution_count": 34,
   "metadata": {
    "_uuid": "2bc86f3cf8e6e462090564ec4ad776273ba6f4c4",
    "execution": {
     "iopub.execute_input": "2022-05-17T10:40:03.637555Z",
     "iopub.status.busy": "2022-05-17T10:40:03.637253Z",
     "iopub.status.idle": "2022-05-17T10:40:04.086448Z",
     "shell.execute_reply": "2022-05-17T10:40:04.085712Z",
     "shell.execute_reply.started": "2022-05-17T10:40:03.637500Z"
    }
   },
   "outputs": [
    {
     "data": {
      "image/png": "[encoded data removed]",
      "text/plain": [
       "<Figure size 1200x600 with 1 Axes>"
      ]
     },
     "metadata": {
      "needs_background": "light"
     },
     "output_type": "display_data"
    }
   ],
   "source": [
    "# Get training and test loss histories\n",
    "training_loss = history.history['loss']\n",
    "test_loss = history.history['val_loss']\n",
    "\n",
    "# Create count of the number of epochs\n",
    "epoch_count = range(1, len(training_loss) + 1)\n",
    "\n",
    "# Visualize loss history\n",
    "plt.figure(figsize = (8,4))\n",
    "plt.plot(epoch_count, training_loss, 'r--')\n",
    "plt.plot(epoch_count, test_loss, 'b-')\n",
    "plt.legend(['Training Loss', 'Test Loss'])\n",
    "plt.xlabel('Epoch')\n",
    "plt.ylabel('Loss')\n",
    "plt.show()"
   ]
  },
  {
   "cell_type": "markdown",
   "metadata": {
    "_uuid": "4e7c5b699c6d3971a93c74abfe8525a6bde4c96b"
   },
   "source": [
    "<a id=\"there_you_go_4.\"></a>\n",
    "## 4.8) Evaluating RMSE and Accuracy"
   ]
  },
  {
   "cell_type": "code",
   "execution_count": 35,
   "metadata": {
    "_uuid": "4fa0deab0c21c0ddd328f7fcb81d31340b136d8c",
    "execution": {
     "iopub.execute_input": "2022-05-17T10:40:05.817493Z",
     "iopub.status.busy": "2022-05-17T10:40:05.817099Z",
     "iopub.status.idle": "2022-05-17T10:40:06.561220Z",
     "shell.execute_reply": "2022-05-17T10:40:06.560517Z",
     "shell.execute_reply.started": "2022-05-17T10:40:05.817417Z"
    }
   },
   "outputs": [
    {
     "name": "stdout",
     "output_type": "stream",
     "text": [
      "20168/20168 [==============================] - 1s 45us/step\n",
      "RMSE: 1.9390\n",
      "Accuracy of Model:  0.2540658468861563\n"
     ]
    }
   ],
   "source": [
    "score = model.evaluate([x_test['userId'], x_test['movieId']], y_test)\n",
    "\n",
    "print('RMSE: {:.4f}'.format(np.sqrt(score[0])))\n",
    "print('Accuracy of Model: ',score[1] )"
   ]
  },
  {
   "cell_type": "markdown",
   "metadata": {},
   "source": [
    "# 5) Movie Prediction Algorithm "
   ]
  },
  {
   "cell_type": "code",
   "execution_count": 36,
   "metadata": {
    "execution": {
     "iopub.execute_input": "2022-05-17T10:40:07.748442Z",
     "iopub.status.busy": "2022-05-17T10:40:07.748143Z",
     "iopub.status.idle": "2022-05-17T10:40:38.085521Z",
     "shell.execute_reply": "2022-05-17T10:40:38.084863Z",
     "shell.execute_reply.started": "2022-05-17T10:40:07.748384Z"
    }
   },
   "outputs": [
    {
     "name": "stdout",
     "output_type": "stream",
     "text": [
      "      movieId  prediction\n",
      "0           1    4.081191\n",
      "1           2    3.612190\n",
      "2           3    3.311357\n",
      "3           4    2.662673\n",
      "4           5    3.086546\n",
      "...       ...         ...\n",
      "9719   193581    0.000000\n",
      "9720   193583    0.000000\n",
      "9721   193585    0.000000\n",
      "9722   193587    0.000000\n",
      "9723   193609    0.000000\n",
      "\n",
      "[9724 rows x 2 columns]\n"
     ]
    }
   ],
   "source": [
    "df_comb = df_combined['movieId'].to_numpy()\n",
    "df_movie_id = np.unique(df_comb)\n",
    "\n",
    "#İnput User id [0-610]: 610 kullanıncıdan istenilen kullanıcı için tüm filmler arasında en çok beğenebileceği film tahmin edilmiştir.\n",
    "input_user_id = 200\n",
    "prediction_arr = []\n",
    "\n",
    "pred_movie_frame = []\n",
    "\n",
    "movie_id_arr = []\n",
    "\n",
    "\n",
    "for i in range(len(df_movie_id)):\n",
    "    input_movie_id = df_movie_id[i]\n",
    "    data = {'userId':[input_user_id],'movieId':[input_movie_id]}\n",
    "    input_user_data = pd.DataFrame(data)\n",
    "    prediction = model.predict([input_user_data['userId'], input_user_data['movieId']])\n",
    "    pred_df = pd.DataFrame(prediction[0],columns = ['prediction'])\n",
    "    pred_val = prediction[0].astype(float)\n",
    "    input_movie_id_df = pd.DataFrame([input_movie_id],columns = ['movieId'])\n",
    "    \n",
    "    \n",
    "    pred_movie_data = pd.DataFrame([[input_movie_id,pred_val[0]]],\n",
    "                   columns=['movieId', 'prediction'])\n",
    "    \n",
    "    pred_movie_frame.append(pred_movie_data)\n",
    "\n",
    "\n",
    "final_pred_movie_frame = pd.concat(pred_movie_frame,axis =0,ignore_index=True)\n",
    "print(final_pred_movie_frame)\n"
   ]
  },
  {
   "cell_type": "code",
   "execution_count": 37,
   "metadata": {
    "execution": {
     "iopub.execute_input": "2022-05-17T10:40:38.087520Z",
     "iopub.status.busy": "2022-05-17T10:40:38.087221Z",
     "iopub.status.idle": "2022-05-17T10:40:38.151250Z",
     "shell.execute_reply": "2022-05-17T10:40:38.150421Z",
     "shell.execute_reply.started": "2022-05-17T10:40:38.087471Z"
    }
   },
   "outputs": [
    {
     "name": "stdout",
     "output_type": "stream",
     "text": [
      "Come and See (Idi i smotri) (1985)\n",
      "5.182578086853027\n"
     ]
    }
   ],
   "source": [
    "       \n",
    "max_rating_index = (final_pred_movie_frame['prediction']==final_pred_movie_frame.max()['prediction'])\n",
    "max_rating_index = max_rating_index.astype(int).to_numpy()\n",
    "\n",
    "\n",
    "for i in range(len(max_rating_index)):\n",
    "    if(max_rating_index[i]==1):\n",
    "        predicted_movieid = final_pred_movie_frame['movieId'][i]\n",
    "\n",
    "\n",
    "\n",
    "df_comb_id = df_combined['movieId'].astype(int).to_numpy()\n",
    "\n",
    "\n",
    "for i in range(len(df_combined)):\n",
    "    if(df_comb_id[i]==predicted_movieid):\n",
    "        predicted_movie_name = df_combined['title'][i]\n",
    "        \n",
    "        \n",
    "print(predicted_movie_name)\n",
    "print(final_pred_movie_frame.max()['prediction'])"
   ]
  },
  {
   "cell_type": "code",
   "execution_count": null,
   "metadata": {},
   "outputs": [],
   "source": []
  }
 ],
 "metadata": {
  "kernelspec": {
   "display_name": "Python 3",
   "language": "python",
   "name": "python3"
  },
  "language_info": {
   "codemirror_mode": {
    "name": "ipython",
    "version": 3
   },
   "file_extension": ".py",
   "mimetype": "text/x-python",
   "name": "python",
   "nbconvert_exporter": "python",
   "pygments_lexer": "ipython3",
   "version": "3.6.6"
  }
 },
 "nbformat": 4,
 "nbformat_minor": 4
}
