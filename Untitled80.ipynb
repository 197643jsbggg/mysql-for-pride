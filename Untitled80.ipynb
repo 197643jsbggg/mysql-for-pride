{
  "nbformat": 4,
  "nbformat_minor": 0,
  "metadata": {
    "colab": {
      "provenance": [],
      "authorship_tag": "ABX9TyM47uqbuaeOhCgD6jPIPiw8",
      "include_colab_link": true
    },
    "kernelspec": {
      "name": "python3",
      "display_name": "Python 3"
    },
    "language_info": {
      "name": "python"
    }
  },
  "cells": [
    {
      "cell_type": "markdown",
      "metadata": {
        "id": "view-in-github",
        "colab_type": "text"
      },
      "source": [
        "<a href=\"https://colab.research.google.com/github/197643jsbggg/mysql-for-pride/blob/main/Untitled80.ipynb\" target=\"_parent\"><img src=\"https://colab.research.google.com/assets/colab-badge.svg\" alt=\"Open In Colab\"/></a>"
      ]
    },
    {
      "cell_type": "code",
      "source": [
        "import pandas as pd\n",
        "import numpy as np"
      ],
      "metadata": {
        "id": "MurGPrDlRj_v"
      },
      "execution_count": 2,
      "outputs": []
    },
    {
      "cell_type": "markdown",
      "source": [
        "setting indixes for series"
      ],
      "metadata": {
        "id": "msA-9lkoTn1v"
      }
    },
    {
      "cell_type": "code",
      "source": [
        "series = pd.Series(['New York', 'Chicago', 'Toronto', 'Lisbon'])\n",
        "series.index = ['1','2','3','4']"
      ],
      "metadata": {
        "id": "dvo2T6waR6rI"
      },
      "execution_count": 23,
      "outputs": []
    },
    {
      "cell_type": "code",
      "source": [
        "series"
      ],
      "metadata": {
        "colab": {
          "base_uri": "https://localhost:8080/"
        },
        "id": "rDmbCl5XSWQs",
        "outputId": "20a6aa6b-8145-49ba-e5a3-0302b16b2f6e"
      },
      "execution_count": 17,
      "outputs": [
        {
          "output_type": "execute_result",
          "data": {
            "text/plain": [
              "1    New York\n",
              "2     Chicago\n",
              "3     Toronto\n",
              "4      Lisbon\n",
              "dtype: object"
            ]
          },
          "metadata": {},
          "execution_count": 17
        }
      ]
    },
    {
      "cell_type": "markdown",
      "source": [
        "series with dictionary\n"
      ],
      "metadata": {
        "id": "feNo2Gu6S3dy"
      }
    },
    {
      "cell_type": "code",
      "source": [
        "dictionary = {'A': 10, 'B': 20, 'C': 30}\n",
        "series = pd.Series(dictionary)\n",
        "print(series)"
      ],
      "metadata": {
        "colab": {
          "base_uri": "https://localhost:8080/"
        },
        "id": "u_Gl-D8WSqPv",
        "outputId": "c7f7cada-a699-4c0d-d406-ed02638e70c3"
      },
      "execution_count": 15,
      "outputs": [
        {
          "output_type": "stream",
          "name": "stdout",
          "text": [
            "A    10\n",
            "B    20\n",
            "C    30\n",
            "dtype: int64\n"
          ]
        }
      ]
    },
    {
      "cell_type": "code",
      "source": [
        "dict = {\"A\":[10,80], \"B\":[20,90], 'C': 30}"
      ],
      "metadata": {
        "id": "K_4X5Fk9SqSt"
      },
      "execution_count": 19,
      "outputs": []
    },
    {
      "cell_type": "code",
      "source": [
        "dict"
      ],
      "metadata": {
        "colab": {
          "base_uri": "https://localhost:8080/"
        },
        "id": "sesybA1-SqWW",
        "outputId": "cb4e9e82-c3ba-49ca-b0da-8ba871cd1d61"
      },
      "execution_count": 20,
      "outputs": [
        {
          "output_type": "execute_result",
          "data": {
            "text/plain": [
              "dict"
            ]
          },
          "metadata": {},
          "execution_count": 20
        }
      ]
    },
    {
      "cell_type": "markdown",
      "source": [
        "accessing series elements\n"
      ],
      "metadata": {
        "id": "wdbNaNq0UbCz"
      }
    },
    {
      "cell_type": "code",
      "source": [
        " serie = pd.Series(['New York', 'Chicago', 'Toronto', 'Lisbon'])\n",
        " print(serie[:4])"
      ],
      "metadata": {
        "colab": {
          "base_uri": "https://localhost:8080/"
        },
        "id": "zZvNkdoJU0uX",
        "outputId": "1dfa8296-cf1d-4ba7-b305-14e8c0d7fd2c"
      },
      "execution_count": 27,
      "outputs": [
        {
          "output_type": "stream",
          "name": "stdout",
          "text": [
            "0    New York\n",
            "1     Chicago\n",
            "2     Toronto\n",
            "3      Lisbon\n",
            "dtype: object\n"
          ]
        }
      ]
    },
    {
      "cell_type": "code",
      "source": [
        "dt_series = pd.Series([121,212,43,322])\n",
        "dt_series.sort_values(ascending = True,na_position = 'last')\n"
      ],
      "metadata": {
        "colab": {
          "base_uri": "https://localhost:8080/"
        },
        "id": "utsv-nGJVZ8f",
        "outputId": "00ffac11-42a5-4951-9a67-bf23671dfa0a"
      },
      "execution_count": 29,
      "outputs": [
        {
          "output_type": "execute_result",
          "data": {
            "text/plain": [
              "2     43\n",
              "0    121\n",
              "1    212\n",
              "3    322\n",
              "dtype: int64"
            ]
          },
          "metadata": {},
          "execution_count": 29
        }
      ]
    },
    {
      "cell_type": "code",
      "source": [],
      "metadata": {
        "id": "Q7EPraBcVZ_0"
      },
      "execution_count": null,
      "outputs": []
    },
    {
      "cell_type": "markdown",
      "source": [
        "concate series"
      ],
      "metadata": {
        "id": "C60x_oKWc-xn"
      }
    },
    {
      "cell_type": "code",
      "source": [
        "class = pd.Series('lab','cab','bag')\n",
        "classs = pd.Series('ds','bs','gf')\n",
        "ps = class.append(classs)"
      ],
      "metadata": {
        "colab": {
          "base_uri": "https://localhost:8080/",
          "height": 140
        },
        "id": "9DZI_kildBTe",
        "outputId": "952db89a-48aa-4a80-892c-ee542c16a318"
      },
      "execution_count": 32,
      "outputs": [
        {
          "output_type": "error",
          "ename": "SyntaxError",
          "evalue": "ignored",
          "traceback": [
            "\u001b[0;36m  File \u001b[0;32m\"<ipython-input-32-7b60f143b3ff>\"\u001b[0;36m, line \u001b[0;32m1\u001b[0m\n\u001b[0;31m    class = pd.Series('lab','cab','bag')\u001b[0m\n\u001b[0m          ^\u001b[0m\n\u001b[0;31mSyntaxError\u001b[0m\u001b[0;31m:\u001b[0m invalid syntax\n"
          ]
        }
      ]
    }
  ]
}